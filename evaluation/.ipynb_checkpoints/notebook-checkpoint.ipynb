{
 "cells": [
  {
   "cell_type": "markdown",
   "metadata": {},
   "source": [
    "# Static Definitions"
   ]
  },
  {
   "cell_type": "markdown",
   "metadata": {},
   "source": [
    "Requirements"
   ]
  },
  {
   "cell_type": "code",
   "execution_count": 47,
   "metadata": {},
   "outputs": [],
   "source": [
    "import pandas as pd \n",
    "import requests\n",
    "import re\n",
    "from pymongo import MongoClient"
   ]
  },
  {
   "cell_type": "markdown",
   "metadata": {},
   "source": [
    "Constant mapping between exercise names and their root derivation trees:"
   ]
  },
  {
   "cell_type": "code",
   "execution_count": 48,
   "metadata": {},
   "outputs": [],
   "source": [
    "name_to_model_ids = {\n",
    "    'Courses': ['JDKw8yJZF5fiP3jv3', 'PSqwzYAfW9dFAa9im'],\n",
    "    'ProductionLine_v2_v3': ['aTwuoJgesSd8hXXEP', 'bNCCf9FMRZoxqobfX'],\n",
    "    'Train': ['QxGnrFQnXPGh2Lh8C'],\n",
    "    'SocialNetwork': ['dkZH6HJNQNLLDX6Aj'],\n",
    "    'TrashFOL': ['sDLK7uBCbgZon3znd'],\n",
    "    'ClassroomFOL': ['YH3ANm7Y5Qe5dSYem'],\n",
    "    'TrashRL': ['PQAJE67kz8w5NWJuM'],\n",
    "    'ClassroomRL': ['zRAn69AocpkmxXZnW'],\n",
    "    'Graphs': ['gAeD3MTGCCv8YNTaK'],\n",
    "    'LTS': ['zoEADeCW2b2suJB2k'],\n",
    "    'ProductionLine_v1': ['jyS8Bmceejj9pLbTW'],\n",
    "    'CV': ['JC8Tij8o8GZb99gEJ'],\n",
    "    'TrashLTL': ['9jPK8KBWzjFmBx4Hb']\n",
    "}"
   ]
  },
  {
   "cell_type": "code",
   "execution_count": 49,
   "metadata": {},
   "outputs": [],
   "source": [
    "def send_http_request(url: str, body=None, method=\"POST\"):\n",
    "    try:\n",
    "        response = requests.request(method, url, json=body)\n",
    "        # Check if the request was successful (status code 200)        \n",
    "        if response.status_code == 200:\n",
    "            content_type = response.headers.get('Content-Type')\n",
    "            if content_type and 'application/json' in content_type:\n",
    "                try:\n",
    "                    return response.json()\n",
    "                except requests.exceptions.JSONDecodeError as e1:\n",
    "                    return response.text\n",
    "            else:\n",
    "                return response.text\n",
    "\n",
    "        else:\n",
    "            print(f\"Request exited with status code {response.status_code}: {response.reason}\")\n",
    "    except requests.RequestException as e:\n",
    "        return e\n",
    "    return None\n"
   ]
  },
  {
   "cell_type": "markdown",
   "metadata": {},
   "source": [
    "# Setup Databases"
   ]
  },
  {
   "cell_type": "markdown",
   "metadata": {},
   "source": [
    "Setup databases for SpecAssistant and HiGenA."
   ]
  },
  {
   "cell_type": "markdown",
   "metadata": {
    "jp-MarkdownHeadingCollapsed": true
   },
   "source": [
    "## Setup HiGenA"
   ]
  },
  {
   "cell_type": "code",
   "execution_count": null,
   "metadata": {},
   "outputs": [],
   "source": [
    "for (name,ids) in name_to_model_ids.items():\n",
    "    send_http_request(url=\"http://localhost:8080/hint/higena-setup\",  body=ids)"
   ]
  },
  {
   "cell_type": "markdown",
   "metadata": {},
   "source": [
    "## Setup SpecAssistant"
   ]
  },
  {
   "cell_type": "code",
   "execution_count": 55,
   "metadata": {},
   "outputs": [
    {
     "name": "stdout",
     "output_type": "stream",
     "text": [
      "Request exited with status code 204: No Content\n"
     ]
    }
   ],
   "source": [
    "send_http_request(url=\"http://localhost:8080/hint/debug-drop-db\", method=\"GET\")"
   ]
  },
  {
   "cell_type": "code",
   "execution_count": 51,
   "metadata": {},
   "outputs": [],
   "source": [
    "def send_specassistant_setup_from_name(name):\n",
    "    if (name in name_to_model_ids):\n",
    "        return send_http_request(url=\"http://localhost:8080/hint/specassistant-setup?prefix=\"+name, body=name_to_model_ids[name], method=\"GET\")\n",
    "    else:\n",
    "        return \"Unkown Exercise\""
   ]
  },
  {
   "cell_type": "markdown",
   "metadata": {
    "jp-MarkdownHeadingCollapsed": true
   },
   "source": [
    "### Setup Single"
   ]
  },
  {
   "cell_type": "markdown",
   "metadata": {},
   "source": [
    "#### Setup Classroom"
   ]
  },
  {
   "cell_type": "code",
   "execution_count": null,
   "metadata": {},
   "outputs": [],
   "source": [
    "# FOL\n",
    "send_specassistant_setup_from_name(\"ClassroomFOL\")"
   ]
  },
  {
   "cell_type": "code",
   "execution_count": null,
   "metadata": {},
   "outputs": [],
   "source": [
    "# RL\n",
    "send_specassistant_setup_from_name(\"ClassroomRL\")"
   ]
  },
  {
   "cell_type": "markdown",
   "metadata": {},
   "source": [
    "#### Setup Social Network"
   ]
  },
  {
   "cell_type": "code",
   "execution_count": null,
   "metadata": {
    "scrolled": true
   },
   "outputs": [],
   "source": [
    "# Setup SpecAssistant Desired Graphs\n",
    "send_specassistant_setup_from_name(\"SocialNetwork\")"
   ]
  },
  {
   "cell_type": "markdown",
   "metadata": {},
   "source": [
    "### Setup All"
   ]
  },
  {
   "cell_type": "code",
   "execution_count": 56,
   "metadata": {},
   "outputs": [
    {
     "name": "stdout",
     "output_type": "stream",
     "text": [
      "Setup in progress.\n",
      "Setup in progress.\n",
      "Setup in progress.\n",
      "Setup in progress.\n",
      "Setup in progress.\n",
      "Setup in progress.\n",
      "Setup in progress.\n",
      "Setup in progress.\n",
      "Setup in progress.\n",
      "Setup in progress.\n",
      "Setup in progress.\n",
      "Setup in progress.\n",
      "Setup in progress.\n"
     ]
    }
   ],
   "source": [
    "# WARNING: This takes some time and will run in the foreground, setting up every graph, one at a time\n",
    "for name in name_to_model_ids.keys():\n",
    "    print(send_specassistant_setup_from_name(name))"
   ]
  },
  {
   "cell_type": "markdown",
   "metadata": {},
   "source": [
    "# Most Popular Nodes"
   ]
  },
  {
   "cell_type": "markdown",
   "metadata": {},
   "source": [
    "Database Info"
   ]
  },
  {
   "cell_type": "code",
   "execution_count": 57,
   "metadata": {},
   "outputs": [],
   "source": [
    "mongo_uri = \"mongodb://localhost:27017/\"\n",
    "database_name = \"meteor\""
   ]
  },
  {
   "cell_type": "markdown",
   "metadata": {},
   "source": [
    "Database Aggregation Pipelines"
   ]
  },
  {
   "cell_type": "code",
   "execution_count": 58,
   "metadata": {},
   "outputs": [],
   "source": [
    "# Targets \"Graph\" collection\n",
    "def get_graph_id_dict_pipeline():\n",
    "    return [\n",
    "        {'$addFields': {'reg': {'$regexFind': {'input': '$name', 'regex': re.compile(r\"([^-]*)-(.*)\")}}}},\n",
    "        {'$addFields': {'super_name': {'$first': '$reg.captures'}}},\n",
    "        {'$group': {'_id': '$super_name', 'graph_ids': {'$push': '$_id'}}}\n",
    "    ]\n",
    "    \n",
    "# Targets \"Node\" collection\n",
    "def get_popular_nodes_pipeline(graph_ids):\n",
    "    return [\n",
    "        {'$match': {'valid': False, 'graph_id': {\"$in\":graph_ids}}},\n",
    "        {'$addFields': {'formula': {'$objectToArray': '$formula'}}},\n",
    "        {'$unwind': '$formula'},\n",
    "        {'$lookup': {'from': 'Node', 'localField': 'minSolution', 'foreignField': '_id', 'as': 'minSolutionFormula', \n",
    "            'pipeline': [\n",
    "                {'$addFields': {'formula': {'$objectToArray': '$formula'}}},\n",
    "                {'$unwind': '$formula'},\n",
    "                {'$replaceRoot': {'newRoot': '$formula'}}\n",
    "            ]\n",
    "        }},\n",
    "        {'$unwind': '$minSolutionFormula'},\n",
    "        {'$project': {\n",
    "            '_id':0,\n",
    "            'predicate': '$formula.k', \n",
    "            'formula': '$formula.v', \n",
    "            'frequency': {'$max': ['$visits', '$leaves']}, \n",
    "            'closest_solution': '$minSolutionFormula.v', \n",
    "            'solution_distance': '$minSolutionTed'\n",
    "        }},\n",
    "        {'$sort': {'frequency': -1}}\n",
    "    ]"
   ]
  },
  {
   "cell_type": "markdown",
   "metadata": {},
   "source": [
    "Get Name to GraphId Maps"
   ]
  },
  {
   "cell_type": "code",
   "execution_count": 59,
   "metadata": {},
   "outputs": [
    {
     "data": {
      "text/plain": [
       "{'CV': [ObjectId('65465fedd769fd5d4612c5f5'),\n",
       "  ObjectId('65465fedd769fd5d4612c5f6'),\n",
       "  ObjectId('65465fedd769fd5d4612c5f7'),\n",
       "  ObjectId('65465fedd769fd5d4612c5f8')],\n",
       " 'Train': [ObjectId('65465e3bd769fd5d461244e6'),\n",
       "  ObjectId('65465e3bd769fd5d461244e7'),\n",
       "  ObjectId('65465e3bd769fd5d461244e8'),\n",
       "  ObjectId('65465e3bd769fd5d461244e9'),\n",
       "  ObjectId('65465e3bd769fd5d461244ea'),\n",
       "  ObjectId('65465e3bd769fd5d461244eb'),\n",
       "  ObjectId('65465e3bd769fd5d461244ec'),\n",
       "  ObjectId('65465e3bd769fd5d461244ed'),\n",
       "  ObjectId('65465e3bd769fd5d461244ee'),\n",
       "  ObjectId('65465e3bd769fd5d461244ef')],\n",
       " 'ClassroomFOL': [ObjectId('65465f2ed769fd5d46129406'),\n",
       "  ObjectId('65465f2ed769fd5d46129407'),\n",
       "  ObjectId('65465f2ed769fd5d46129408'),\n",
       "  ObjectId('65465f2ed769fd5d46129409'),\n",
       "  ObjectId('65465f2ed769fd5d4612940a'),\n",
       "  ObjectId('65465f2ed769fd5d4612940b'),\n",
       "  ObjectId('65465f2ed769fd5d4612940c'),\n",
       "  ObjectId('65465f2ed769fd5d4612940d'),\n",
       "  ObjectId('65465f2ed769fd5d4612940e'),\n",
       "  ObjectId('65465f2ed769fd5d4612940f'),\n",
       "  ObjectId('65465f2ed769fd5d46129410'),\n",
       "  ObjectId('65465f2ed769fd5d46129411'),\n",
       "  ObjectId('65465f2ed769fd5d46129412'),\n",
       "  ObjectId('65465f2ed769fd5d46129413')],\n",
       " 'TrashFOL': [ObjectId('65465f13d769fd5d46128f9e'),\n",
       "  ObjectId('65465f13d769fd5d46128f9f'),\n",
       "  ObjectId('65465f13d769fd5d46128fa0'),\n",
       "  ObjectId('65465f13d769fd5d46128fa1'),\n",
       "  ObjectId('65465f13d769fd5d46128fa2'),\n",
       "  ObjectId('65465f13d769fd5d46128fa3'),\n",
       "  ObjectId('65465f13d769fd5d46128fa4'),\n",
       "  ObjectId('65465f13d769fd5d46128fa5'),\n",
       "  ObjectId('65465f13d769fd5d46128fa6')],\n",
       " 'Courses': [ObjectId('65465d8dd769fd5d4611f3b8'),\n",
       "  ObjectId('65465d8dd769fd5d4611f3b9'),\n",
       "  ObjectId('65465d8dd769fd5d4611f3ba'),\n",
       "  ObjectId('65465d8dd769fd5d4611f3bb'),\n",
       "  ObjectId('65465d8dd769fd5d4611f3bc'),\n",
       "  ObjectId('65465d8dd769fd5d4611f3bd'),\n",
       "  ObjectId('65465d8dd769fd5d4611f3be'),\n",
       "  ObjectId('65465d8dd769fd5d4611f3bf'),\n",
       "  ObjectId('65465d8dd769fd5d4611f3c0'),\n",
       "  ObjectId('65465d8dd769fd5d4611f3c1'),\n",
       "  ObjectId('65465d8dd769fd5d4611f3c2'),\n",
       "  ObjectId('65465d8dd769fd5d4611f3c3'),\n",
       "  ObjectId('65465d8dd769fd5d4611f3c4'),\n",
       "  ObjectId('65465d8dd769fd5d4611f3c5'),\n",
       "  ObjectId('65465d8dd769fd5d4611f3c6')],\n",
       " 'SocialNetwork': [ObjectId('65465e7ad769fd5d46125dd0'),\n",
       "  ObjectId('65465e7ad769fd5d46125dd1'),\n",
       "  ObjectId('65465e7ad769fd5d46125dd2'),\n",
       "  ObjectId('65465e7ad769fd5d46125dd3'),\n",
       "  ObjectId('65465e7ad769fd5d46125dd4'),\n",
       "  ObjectId('65465e7ad769fd5d46125dd5'),\n",
       "  ObjectId('65465e7ad769fd5d46125dd6'),\n",
       "  ObjectId('65465e7ad769fd5d46125dd7')],\n",
       " 'ProductionLine_v2_v3': [ObjectId('65465e04d769fd5d46122c3e'),\n",
       "  ObjectId('65465e04d769fd5d46122c3f'),\n",
       "  ObjectId('65465e04d769fd5d46122c40'),\n",
       "  ObjectId('65465e04d769fd5d46122c41'),\n",
       "  ObjectId('65465e04d769fd5d46122c42'),\n",
       "  ObjectId('65465e05d769fd5d46122c43'),\n",
       "  ObjectId('65465e05d769fd5d46122c44'),\n",
       "  ObjectId('65465e05d769fd5d46122c45'),\n",
       "  ObjectId('65465e05d769fd5d46122c46'),\n",
       "  ObjectId('65465e05d769fd5d46122c47')],\n",
       " 'TrashRL': [ObjectId('65465f5dd769fd5d4612a0b7'),\n",
       "  ObjectId('65465f5dd769fd5d4612a0b8'),\n",
       "  ObjectId('65465f5dd769fd5d4612a0b9'),\n",
       "  ObjectId('65465f5dd769fd5d4612a0ba'),\n",
       "  ObjectId('65465f5dd769fd5d4612a0bb'),\n",
       "  ObjectId('65465f5dd769fd5d4612a0bc'),\n",
       "  ObjectId('65465f5dd769fd5d4612a0bd'),\n",
       "  ObjectId('65465f5dd769fd5d4612a0be'),\n",
       "  ObjectId('65465f5dd769fd5d4612a0bf')],\n",
       " 'ClassroomRL': [ObjectId('65465f7ed769fd5d4612a701'),\n",
       "  ObjectId('65465f7ed769fd5d4612a702'),\n",
       "  ObjectId('65465f7ed769fd5d4612a703'),\n",
       "  ObjectId('65465f7ed769fd5d4612a704'),\n",
       "  ObjectId('65465f7ed769fd5d4612a705'),\n",
       "  ObjectId('65465f7ed769fd5d4612a706'),\n",
       "  ObjectId('65465f7ed769fd5d4612a707'),\n",
       "  ObjectId('65465f7ed769fd5d4612a708'),\n",
       "  ObjectId('65465f7ed769fd5d4612a709'),\n",
       "  ObjectId('65465f7ed769fd5d4612a70a'),\n",
       "  ObjectId('65465f7ed769fd5d4612a70b'),\n",
       "  ObjectId('65465f7ed769fd5d4612a70c'),\n",
       "  ObjectId('65465f7ed769fd5d4612a70d'),\n",
       "  ObjectId('65465f7ed769fd5d4612a70e')],\n",
       " 'Graphs': [ObjectId('65465fb0d769fd5d4612b467'),\n",
       "  ObjectId('65465fb0d769fd5d4612b468'),\n",
       "  ObjectId('65465fb0d769fd5d4612b469'),\n",
       "  ObjectId('65465fb0d769fd5d4612b46a'),\n",
       "  ObjectId('65465fb0d769fd5d4612b46b'),\n",
       "  ObjectId('65465fb0d769fd5d4612b46c'),\n",
       "  ObjectId('65465fb0d769fd5d4612b46d')],\n",
       " 'ProductionLine_v1': [ObjectId('65465fe5d769fd5d4612c3ca'),\n",
       "  ObjectId('65465fe5d769fd5d4612c3cb'),\n",
       "  ObjectId('65465fe5d769fd5d4612c3cc'),\n",
       "  ObjectId('65465fe5d769fd5d4612c3cd')],\n",
       " 'TrashLTL': [ObjectId('65465ffad769fd5d4612ca09'),\n",
       "  ObjectId('65465ffad769fd5d4612ca0a'),\n",
       "  ObjectId('65465ffad769fd5d4612ca0b'),\n",
       "  ObjectId('65465ffad769fd5d4612ca0c'),\n",
       "  ObjectId('65465ffad769fd5d4612ca0d'),\n",
       "  ObjectId('65465ffad769fd5d4612ca0e'),\n",
       "  ObjectId('65465ffad769fd5d4612ca0f'),\n",
       "  ObjectId('65465ffad769fd5d4612ca10'),\n",
       "  ObjectId('65465ffad769fd5d4612ca11'),\n",
       "  ObjectId('65465ffad769fd5d4612ca12'),\n",
       "  ObjectId('65465ffad769fd5d4612ca13'),\n",
       "  ObjectId('65465ffad769fd5d4612ca14'),\n",
       "  ObjectId('65465ffad769fd5d4612ca15'),\n",
       "  ObjectId('65465ffad769fd5d4612ca16'),\n",
       "  ObjectId('65465ffad769fd5d4612ca17'),\n",
       "  ObjectId('65465ffad769fd5d4612ca18'),\n",
       "  ObjectId('65465ffad769fd5d4612ca19'),\n",
       "  ObjectId('65465ffad769fd5d4612ca1a'),\n",
       "  ObjectId('65465ffad769fd5d4612ca1b')],\n",
       " 'LTS': [ObjectId('65465fcdd769fd5d4612bce9'),\n",
       "  ObjectId('65465fcdd769fd5d4612bcea'),\n",
       "  ObjectId('65465fcdd769fd5d4612bceb'),\n",
       "  ObjectId('65465fcdd769fd5d4612bcec'),\n",
       "  ObjectId('65465fcdd769fd5d4612bced'),\n",
       "  ObjectId('65465fcdd769fd5d4612bcee')]}"
      ]
     },
     "execution_count": 59,
     "metadata": {},
     "output_type": "execute_result"
    }
   ],
   "source": [
    "client = MongoClient(mongo_uri)\n",
    "db = client[database_name]\n",
    "\n",
    "graph_collection = db[\"Graph\"]\n",
    "\n",
    "name_to_graph_ids = {} \n",
    "\n",
    "for doc in graph_collection.aggregate(get_graph_id_dict_pipeline()):\n",
    "    name_to_graph_ids[doc[\"_id\"]] = doc[\"graph_ids\"]\n",
    "\n",
    "client.close()\n",
    "name_to_graph_ids\n"
   ]
  },
  {
   "cell_type": "markdown",
   "metadata": {},
   "source": [
    "Get Popular Node Dataframes"
   ]
  },
  {
   "cell_type": "code",
   "execution_count": 60,
   "metadata": {},
   "outputs": [],
   "source": [
    "client = MongoClient(mongo_uri)\n",
    "db = client[database_name]\n",
    "\n",
    "node_collection = db[\"Node\"]\n",
    "\n",
    "name_to_dfs = {}\n",
    "\n",
    "for (name,graph_ids) in name_to_graph_ids.items():\n",
    "    df_ = pd.DataFrame(list( node_collection.aggregate(get_popular_nodes_pipeline(graph_ids))))\n",
    "    name_to_dfs[name] = df_\n",
    "\n",
    "client.close()\n"
   ]
  },
  {
   "cell_type": "markdown",
   "metadata": {},
   "source": [
    "Write Popular Node Csvs"
   ]
  },
  {
   "cell_type": "code",
   "execution_count": 61,
   "metadata": {},
   "outputs": [],
   "source": [
    "master_folder = \"popularity/\"\n",
    "for (name, df_) in name_to_dfs.items():\n",
    "    df_.to_csv(path_or_buf=master_folder+name+\".csv\",sep=';',float_format='%g',mode='w')\n",
    "    "
   ]
  },
  {
   "cell_type": "markdown",
   "metadata": {},
   "source": [
    "# Request hints"
   ]
  },
  {
   "cell_type": "markdown",
   "metadata": {},
   "source": [
    "Import data from file. Checks out the top 10 incorrect most popular submissions  and stores \n",
    "the predicates they belong to. Then, it creates a new dataframe with the top 3 most popular submissions for each one of these predicates."
   ]
  },
  {
   "cell_type": "code",
   "execution_count": null,
   "metadata": {
    "pycharm": {
     "is_executing": true
    }
   },
   "outputs": [],
   "source": [
    "# setting the display options\n",
    "pd.set_option('display.max_rows', None)\n",
    "pd.set_option('max_colwidth', None)\n",
    "\n",
    "# Get the predicates with the most popular incorrect answers \n",
    "challenge = \"dkZH6HJNQNLLDX6Aj\"\n",
    "data = pd.read_csv('popularity.csv', delimiter=';').sort_values(by='Popularity', ascending=False)\n",
    "predicates = data.head(10)[\"Predicate\"].unique().tolist()\n",
    "\n",
    "df = pd.DataFrame()\n",
    "for predicate in predicates:\n",
    "    top = data[data[\"Predicate\"] == predicate].head(3)\n",
    "    df = pd.concat([df, top], ignore_index=True)\n",
    "\n",
    "df.drop(columns=['Popularity'], inplace=True)\n",
    "df"
   ]
  },
  {
   "cell_type": "markdown",
   "metadata": {},
   "source": [
    "WARNING: Run only after setup is complete."
   ]
  },
  {
   "cell_type": "code",
   "execution_count": null,
   "metadata": {},
   "outputs": [],
   "source": [
    "def gen_body_request(model, challenge, predicate, expression, hintGenType):\n",
    "    obj = {\n",
    "        \"model\": model + \" pred \" + predicate + \" { \" + expression + \" }\",\n",
    "        \"challenge\": challenge,\n",
    "        \"predicate\": predicate,\n",
    "        \"hintGenType\": hintGenType\n",
    "    }\n",
    "\n",
    "    return obj\n",
    "\n",
    "def get_hint(model, url, challenge, predicate, expression, hintGenType = \"TED\"):\n",
    "    body = gen_body_request(model, challenge, predicate, expression, hintGenType)\n",
    "    response = send_http_request(url, body)\n",
    "\n",
    "    if response is not None:\n",
    "        return pd.Series([response[\"hint\"], response[\"nextExpr\"], response[\"targetExpr\"]])\n",
    "    else:\n",
    "        return pd.Series([\"\", \"\", \"\"])"
   ]
  },
  {
   "cell_type": "markdown",
   "metadata": {
    "jp-MarkdownHeadingCollapsed": true
   },
   "source": [
    "## HiGenA\n",
    "### TED policy\n",
    "Generates hints using HiGenA with the path with the lowest TED."
   ]
  },
  {
   "cell_type": "code",
   "execution_count": null,
   "metadata": {},
   "outputs": [],
   "source": [
    "model = \"sig User {follows : set User,sees : set Photo,posts : set Photo,suggested : set User} sig Influencer extends User {} sig Photo {date : one Day} sig Ad extends Photo {} sig Day {}\"\n",
    "url = \"http://localhost:8080/hint/higena-hint\"\n",
    "\n",
    "# Hint using Higena with TED\n",
    "higenaTED = df.copy()\n",
    "columns = df.apply(lambda row: get_hint(model, url, row[\"Challenge\"], row[\"Predicate\"], row[\"Expression\"]), axis=1)\n",
    "higenaTED[[\"hint\", \"next\", \"solution\"]] = columns\n",
    "\n",
    "higenaTED"
   ]
  },
  {
   "cell_type": "markdown",
   "metadata": {},
   "source": [
    "### Node Popularity policy\n",
    "\n",
    "Generates hints using HiGenA with the path with the most popular submissions."
   ]
  },
  {
   "cell_type": "code",
   "execution_count": null,
   "metadata": {},
   "outputs": [],
   "source": [
    "# Hint using Higena with Most popular submissions\n",
    "higenaNode = df.copy()\n",
    "columns = df.apply(lambda row: get_hint(model, url, row[\"Challenge\"], row[\"Predicate\"], row[\"Expression\"], hintGenType=\"NODE_POISSON\"), axis=1)\n",
    "higenaNode[[\"hint\", \"next\", \"solution\"]] = columns\n",
    "\n",
    "higenaNode"
   ]
  },
  {
   "cell_type": "markdown",
   "metadata": {},
   "source": [
    "### Edge Popularity policy\n",
    "Generates hints using HiGenA with the path with the most popular transitions."
   ]
  },
  {
   "cell_type": "code",
   "execution_count": null,
   "metadata": {},
   "outputs": [],
   "source": [
    "# Hint using Higena with Most popular submissions\n",
    "higenaEdge = df.copy()\n",
    "columns = df.apply(lambda row: get_hint(model, url, row[\"Challenge\"], row[\"Predicate\"], row[\"Expression\"], hintGenType=\"REL_POISSON\"), axis=1)\n",
    "higenaEdge[[\"hint\", \"next\", \"solution\"]] = columns\n",
    "\n",
    "higenaEdge"
   ]
  },
  {
   "cell_type": "markdown",
   "metadata": {
    "jp-MarkdownHeadingCollapsed": true
   },
   "source": [
    "## Spec Assistant\n",
    "### Default policy\n",
    "Generates hints using SpecAssistant default parameters."
   ]
  },
  {
   "cell_type": "code",
   "execution_count": null,
   "metadata": {},
   "outputs": [],
   "source": [
    "# Compute policy\n",
    "url = \"http://localhost:8080/hint/compute-all-policies-for-rule?rule=TEDCOMPXxArrival\"\n",
    "send_http_request(url, [challenge], \"POST\")"
   ]
  },
  {
   "cell_type": "code",
   "execution_count": null,
   "metadata": {},
   "outputs": [],
   "source": [
    "# Hint using Spec Assistant default parameters\n",
    "url = \"http://localhost:8080/hint/spec-hint\"\n",
    "spec = df.copy()\n",
    "columns = df.apply(lambda row: get_hint(model, url, row[\"Challenge\"], row[\"Predicate\"], row[\"Expression\"]), axis=1)\n",
    "spec[[\"hint\", \"next\", \"solution\"]] = columns\n",
    "spec"
   ]
  },
  {
   "cell_type": "markdown",
   "metadata": {},
   "source": [
    "### TED policy"
   ]
  },
  {
   "cell_type": "code",
   "execution_count": null,
   "metadata": {},
   "outputs": [],
   "source": [
    "# Compute policy\n",
    "url = \"http://localhost:8080/hint/compute-all-policies-for-rule?rule=TED\"\n",
    "send_http_request(url)"
   ]
  },
  {
   "cell_type": "code",
   "execution_count": null,
   "metadata": {},
   "outputs": [],
   "source": [
    "# Generate hint\n",
    "url = \"http://localhost:8080/hint/spec-hint\"\n",
    "specTed = df.copy()\n",
    "columns = df.apply(lambda row: get_hint(model, url, row[\"Challenge\"], row[\"Predicate\"], row[\"Expression\"]), axis=1)\n",
    "specTed[[\"hint\", \"next\", \"solution\"]] = columns\n",
    "specTed"
   ]
  },
  {
   "cell_type": "markdown",
   "metadata": {},
   "source": [
    "### Node Popularity policy"
   ]
  },
  {
   "cell_type": "code",
   "execution_count": null,
   "metadata": {},
   "outputs": [],
   "source": [
    "# Compute policy\n",
    "url = \"http://localhost:8080/hint/compute-all-policies-for-rule?rule=MAXFREQ\"\n",
    "send_http_request(url)"
   ]
  },
  {
   "cell_type": "code",
   "execution_count": null,
   "metadata": {},
   "outputs": [],
   "source": [
    "# Generate hint\n",
    "url = \"http://localhost:8080/hint/spec-hint\"\n",
    "specPopularNode = df.copy()\n",
    "columns = df.apply(lambda row: get_hint(model, url, row[\"Challenge\"], row[\"Predicate\"], row[\"Expression\"]), axis=1)\n",
    "specPopularNode[[\"hint\", \"next\", \"solution\"]] = columns\n",
    "specPopularNode"
   ]
  },
  {
   "cell_type": "markdown",
   "metadata": {},
   "source": [
    "### Edge Popularity policy"
   ]
  },
  {
   "cell_type": "code",
   "execution_count": null,
   "metadata": {},
   "outputs": [],
   "source": [
    "# Compute policy\n",
    "url = \"http://localhost:8080/hint/compute-all-policies-for-rule?rule=POPULARITY\"\n",
    "send_http_request(url)"
   ]
  },
  {
   "cell_type": "code",
   "execution_count": null,
   "metadata": {},
   "outputs": [],
   "source": [
    "# Generate hint\n",
    "url = \"http://localhost:8080/hint/spec-hint\"\n",
    "specPopularEdge = df.copy()\n",
    "columns = df.apply(lambda row: get_hint(model, url, row[\"Challenge\"], row[\"Predicate\"], row[\"Expression\"]), axis=1)\n",
    "specPopularEdge[[\"hint\", \"next\", \"solution\"]] = columns\n",
    "specPopularEdge"
   ]
  },
  {
   "cell_type": "markdown",
   "metadata": {
    "jp-MarkdownHeadingCollapsed": true
   },
   "source": [
    "# Export"
   ]
  },
  {
   "cell_type": "markdown",
   "metadata": {},
   "source": [
    "Export hints to file."
   ]
  },
  {
   "cell_type": "code",
   "execution_count": null,
   "metadata": {},
   "outputs": [],
   "source": [
    "df[\"HiGenATED\"] = higenaTED[\"hint\"]\n",
    "df[\"HiGenAPopularNode\"] = higenaNode[\"hint\"]\n",
    "df[\"HiGenAPopularEdge\"] = higenaEdge[\"hint\"]\n",
    "df[\"specTed\"] = specTed[\"hint\"]\n",
    "df[\"specPopularNode\"] = specPopularNode[\"hint\"]\n",
    "df[\"specPopularEdge\"] = specPopularEdge[\"hint\"]\n",
    "# Export hints csv\n",
    "df.to_csv(\"hints.csv\", index=False, sep=\";\")\n"
   ]
  },
  {
   "cell_type": "code",
   "execution_count": null,
   "metadata": {},
   "outputs": [],
   "source": [
    "df"
   ]
  }
 ],
 "metadata": {
  "kernelspec": {
   "display_name": "Python 3 (ipykernel)",
   "language": "python",
   "name": "python3"
  },
  "language_info": {
   "codemirror_mode": {
    "name": "ipython",
    "version": 3
   },
   "file_extension": ".py",
   "mimetype": "text/x-python",
   "name": "python",
   "nbconvert_exporter": "python",
   "pygments_lexer": "ipython3",
   "version": "3.12.0"
  }
 },
 "nbformat": 4,
 "nbformat_minor": 4
}
