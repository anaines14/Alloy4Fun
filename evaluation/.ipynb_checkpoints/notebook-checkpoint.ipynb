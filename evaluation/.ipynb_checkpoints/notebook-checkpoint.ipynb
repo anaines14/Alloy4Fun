{
 "cells": [
  {
   "cell_type": "markdown",
   "metadata": {},
   "source": [
    "# Manditory Requirements"
   ]
  },
  {
   "cell_type": "code",
   "execution_count": 1,
   "metadata": {},
   "outputs": [],
   "source": [
    "import pandas as pd \n",
    "import requests\n",
    "import re\n",
    "from pymongo import MongoClient\n",
    "\n",
    "def send_http_request(url: str, body=None, method=\"POST\"):\n",
    "    try:\n",
    "        response = requests.request(method, url, json=body)\n",
    "        # Check if the request was successful (status code 200)        \n",
    "        if response.status_code == 200:\n",
    "            content_type = response.headers.get('Content-Type')\n",
    "            if content_type and 'application/json' in content_type:\n",
    "                try:\n",
    "                    return response.json()\n",
    "                except requests.exceptions.JSONDecodeError as e1:\n",
    "                    return response.text\n",
    "            else:\n",
    "                return response.text\n",
    "\n",
    "        else:\n",
    "            print(f\"Request exited with status code {response.status_code}: {response.reason}\")\n",
    "    except requests.RequestException as e:\n",
    "        return e\n",
    "    return None"
   ]
  },
  {
   "cell_type": "markdown",
   "metadata": {},
   "source": [
    "Constant mapping between exercise names and their root derivation trees:"
   ]
  },
  {
   "cell_type": "code",
   "execution_count": 2,
   "metadata": {},
   "outputs": [],
   "source": [
    "name_to_model_ids = {\n",
    "    'Courses': ['JDKw8yJZF5fiP3jv3', 'PSqwzYAfW9dFAa9im'],\n",
    "    'ProductionLine_v2_v3': ['aTwuoJgesSd8hXXEP', 'bNCCf9FMRZoxqobfX'],\n",
    "    'Train': ['QxGnrFQnXPGh2Lh8C'],\n",
    "    'SocialNetwork': ['dkZH6HJNQNLLDX6Aj'],\n",
    "    'TrashFOL': ['sDLK7uBCbgZon3znd'],\n",
    "    'ClassroomFOL': ['YH3ANm7Y5Qe5dSYem'],\n",
    "    'TrashRL': ['PQAJE67kz8w5NWJuM'],\n",
    "    'ClassroomRL': ['zRAn69AocpkmxXZnW'],\n",
    "    'Graphs': ['gAeD3MTGCCv8YNTaK'],\n",
    "    'LTS': ['zoEADeCW2b2suJB2k'],\n",
    "    'ProductionLine_v1': ['jyS8Bmceejj9pLbTW'],\n",
    "    'CV': ['JC8Tij8o8GZb99gEJ'],\n",
    "    'TrashLTL': ['9jPK8KBWzjFmBx4Hb']\n",
    "}"
   ]
  },
  {
   "cell_type": "markdown",
   "metadata": {},
   "source": [
    "# Setup Databases"
   ]
  },
  {
   "cell_type": "markdown",
   "metadata": {},
   "source": [
    "Setup databases for SpecAssistant and HiGenA."
   ]
  },
  {
   "cell_type": "markdown",
   "metadata": {
    "jp-MarkdownHeadingCollapsed": true
   },
   "source": [
    "## Setup HiGenA"
   ]
  },
  {
   "cell_type": "code",
   "execution_count": null,
   "metadata": {},
   "outputs": [],
   "source": [
    "for (name,ids) in name_to_model_ids.items():\n",
    "    send_http_request(url=\"http://localhost:8080/hint/higena-setup\",  body=ids)"
   ]
  },
  {
   "cell_type": "markdown",
   "metadata": {},
   "source": [
    "## Setup SpecAssistant"
   ]
  },
  {
   "cell_type": "markdown",
   "metadata": {},
   "source": [
    "Optional SpecAssistant Database Drop"
   ]
  },
  {
   "cell_type": "code",
   "execution_count": 4,
   "metadata": {},
   "outputs": [
    {
     "name": "stdout",
     "output_type": "stream",
     "text": [
      "Request exited with status code 204: No Content\n"
     ]
    }
   ],
   "source": [
    "send_http_request(url=\"http://localhost:8080/hint/debug-drop-db\", method=\"GET\")"
   ]
  },
  {
   "cell_type": "code",
   "execution_count": 5,
   "metadata": {},
   "outputs": [],
   "source": [
    "def send_specassistant_setup_from_name(name):\n",
    "    if (name in name_to_model_ids):\n",
    "        return send_http_request(url=\"http://localhost:8080/hint/specassistant-setup?prefix=\"+name, body=name_to_model_ids[name], method=\"GET\")\n",
    "    else:\n",
    "        return \"Unkown Exercise\""
   ]
  },
  {
   "cell_type": "markdown",
   "metadata": {},
   "source": [
    "### Setup Single"
   ]
  },
  {
   "cell_type": "markdown",
   "metadata": {
    "jp-MarkdownHeadingCollapsed": true
   },
   "source": [
    "#### Setup Classroom"
   ]
  },
  {
   "cell_type": "code",
   "execution_count": null,
   "metadata": {},
   "outputs": [],
   "source": [
    "# FOL\n",
    "send_specassistant_setup_from_name(\"ClassroomFOL\")"
   ]
  },
  {
   "cell_type": "code",
   "execution_count": null,
   "metadata": {},
   "outputs": [],
   "source": [
    "# RL\n",
    "send_specassistant_setup_from_name(\"ClassroomRL\")"
   ]
  },
  {
   "cell_type": "markdown",
   "metadata": {},
   "source": [
    "#### Setup Social Network"
   ]
  },
  {
   "cell_type": "code",
   "execution_count": 6,
   "metadata": {
    "scrolled": true
   },
   "outputs": [
    {
     "data": {
      "text/plain": [
       "'Setup completed for SocialNetwork with model_ids [dkZH6HJNQNLLDX6Aj]'"
      ]
     },
     "execution_count": 6,
     "metadata": {},
     "output_type": "execute_result"
    }
   ],
   "source": [
    "# Setup SpecAssistant Desired Graphs\n",
    "send_specassistant_setup_from_name(\"SocialNetwork\")"
   ]
  },
  {
   "cell_type": "markdown",
   "metadata": {},
   "source": [
    "### Setup All"
   ]
  },
  {
   "cell_type": "code",
   "execution_count": 53,
   "metadata": {},
   "outputs": [
    {
     "name": "stdout",
     "output_type": "stream",
     "text": [
      "Setup completed for Courses with model_ids [JDKw8yJZF5fiP3jv3, PSqwzYAfW9dFAa9im]\n",
      "Setup completed for ProductionLine_v2_v3 with model_ids [aTwuoJgesSd8hXXEP, bNCCf9FMRZoxqobfX]\n",
      "Setup completed for Train with model_ids [QxGnrFQnXPGh2Lh8C]\n",
      "Setup completed for SocialNetwork with model_ids [dkZH6HJNQNLLDX6Aj]\n",
      "Setup completed for TrashFOL with model_ids [sDLK7uBCbgZon3znd]\n",
      "Setup completed for ClassroomFOL with model_ids [YH3ANm7Y5Qe5dSYem]\n",
      "Setup completed for TrashRL with model_ids [PQAJE67kz8w5NWJuM]\n",
      "Setup completed for ClassroomRL with model_ids [zRAn69AocpkmxXZnW]\n",
      "Setup completed for Graphs with model_ids [gAeD3MTGCCv8YNTaK]\n",
      "Setup completed for LTS with model_ids [zoEADeCW2b2suJB2k]\n",
      "Setup completed for ProductionLine_v1 with model_ids [jyS8Bmceejj9pLbTW]\n",
      "Setup completed for CV with model_ids [JC8Tij8o8GZb99gEJ]\n",
      "Setup completed for TrashLTL with model_ids [9jPK8KBWzjFmBx4Hb]\n"
     ]
    }
   ],
   "source": [
    "# WARNING: This takes some time and will run in the foreground, setting up every graph, one at a time\n",
    "for name in name_to_model_ids.keys():\n",
    "    print(send_specassistant_setup_from_name(name))"
   ]
  },
  {
   "cell_type": "markdown",
   "metadata": {},
   "source": [
    "# Database Study"
   ]
  },
  {
   "cell_type": "code",
   "execution_count": 78,
   "metadata": {},
   "outputs": [],
   "source": [
    "mongo_uri = \"mongodb://localhost:27017/\"\n",
    "database_name = \"meteor\""
   ]
  },
  {
   "cell_type": "markdown",
   "metadata": {},
   "source": [
    "## Data Gathering"
   ]
  },
  {
   "cell_type": "markdown",
   "metadata": {},
   "source": [
    "### Get GraphId Maps"
   ]
  },
  {
   "cell_type": "code",
   "execution_count": 95,
   "metadata": {},
   "outputs": [],
   "source": [
    "def get_graph_id_dict_pipeline():\n",
    "    \"\"\"Targets \"Graph\" collection\"\"\"\n",
    "    return [\n",
    "        {'$addFields': {'reg': {'$regexFind': {'input': '$name', 'regex': re.compile(r\"([^-]*)-(.*)\")}}}}, # Apply a regex find using the provided regex\n",
    "        {'$addFields': {'super_name': {'$first': '$reg.captures'}}}, # Place the first regex group on field super_name\n",
    "        {'$group': {'_id': '$super_name', 'graph_ids': {'$push': '$_id'}}} # Group based on super_name, accumulate the graph ids in the arrays graph_ids\n",
    "    ]\n",
    "\n",
    "client = MongoClient(mongo_uri)\n",
    "db = client[database_name]\n",
    "\n",
    "graph_collection = db[\"Graph\"]\n",
    "\n",
    "name_to_graph_ids = {} \n",
    "\n",
    "for doc in graph_collection.aggregate(get_graph_id_dict_pipeline()):\n",
    "    name_to_graph_ids[doc[\"_id\"]] = doc[\"graph_ids\"]\n",
    "\n",
    "client.close()"
   ]
  },
  {
   "cell_type": "markdown",
   "metadata": {},
   "source": [
    "### Get Graph Stats Data Frames"
   ]
  },
  {
   "cell_type": "code",
   "execution_count": 96,
   "metadata": {},
   "outputs": [],
   "source": [
    "def get_graph_node_statistics():\n",
    "    \"\"\"Targets \"Node\" collection\"\"\"\n",
    "    return [\n",
    "        {'$group': { # Group\n",
    "            '_id': '$graph_id', #By graph_id\n",
    "            'valid_nodes': {'$sum': {'$cond': ['$valid', 1, 0]}}, # Count valids\n",
    "            'invalid_nodes': {'$sum': {'$cond': ['$valid', 0, 1]}},  # Count invalids\n",
    "            'valid_submissions': {'$sum': {'$cond': ['$valid', '$visits', 0]}}, # Sum valid frequencies\n",
    "            'invalid_submissions': {'$sum': {'$cond': ['$valid', 0, '$visits']}} # Sum invalid frequencies\n",
    "        }},\n",
    "        {'$lookup': {'from': 'Graph', 'localField': '_id', 'foreignField': '_id', 'as': 'graph'}}, # Lookup the graph's specification and place it in an array\n",
    "        {'$unwind': '$graph'}, # Unwind the graph array\n",
    "        {'$project': {  # Rewrite the object as the defined fields\n",
    "            '_id': 0, # means remove id field\n",
    "            'name': '$graph.name', \n",
    "            'valid_formulas': '$valid_nodes', \n",
    "            'invalid_formulas': '$invalid_nodes', \n",
    "            'valid_submissions': '$valid_submissions', \n",
    "            'invalid_submissions': '$invalid_submissions'\n",
    "        }},\n",
    "        {'$sort': {'name': 1}} # Sort from biggest to smallest based on the name\n",
    "    ]\n",
    "\n",
    "client = MongoClient(mongo_uri)\n",
    "db = client[database_name]\n",
    "\n",
    "node_collection = db[\"Node\"]\n",
    "\n",
    "data = list(node_collection.aggregate(get_graph_node_statistics()))\n",
    "\n",
    "graph_stats_df = pd.DataFrame(data)\n",
    "\n",
    "client.close()"
   ]
  },
  {
   "cell_type": "markdown",
   "metadata": {},
   "source": [
    "### Get Popular Node Data Frames"
   ]
  },
  {
   "cell_type": "markdown",
   "metadata": {},
   "source": [
    "WARNING: Requires GraphId Maps"
   ]
  },
  {
   "cell_type": "code",
   "execution_count": 97,
   "metadata": {},
   "outputs": [],
   "source": [
    "def get_popular_nodes_pipeline(graph_ids):\n",
    "    \"\"\"Targets \"Node\" collection\"\"\"\n",
    "    return [\n",
    "        {'$match': {'valid': False, 'graph_id': {\"$in\":graph_ids}}}, # Match invalid nodes with one of the provided graph ids\n",
    "        {'$addFields': {'formula': {'$objectToArray': '$formula'}}}, # Covert the formula object into an array of key value objects.\n",
    "        {'$unwind': '$formula'}, # Unwind object the formula (since every array is a singleton this will just update each document)\n",
    "        {'$match': {'formula.v': {'$ne': ''}}}, # Match non blank formulas (aka remove initial nodes)\n",
    "        {'$lookup': {'from': 'Node', 'localField': 'minSolution', 'foreignField': '_id', 'as': 'minSolutionFormula', \n",
    "          # A \"join\" with the document Node, values are placed in the array minSolutionFormula\n",
    "            'pipeline': [ # Pipeline applied to the \"joined\" document\n",
    "                {'$addFields': {'formula': {'$objectToArray': '$formula'}}}, # Covert the formula object into an array of key value objects.\n",
    "                {'$unwind': '$formula'}, # Unwind object the formula (since every array is a singleton this will just update each document)\n",
    "                {'$replaceRoot': {'newRoot': '$formula'}} # replace the object with its formula key value object (k,v)\n",
    "            ]\n",
    "        }},\n",
    "        {'$unwind': '$minSolutionFormula'}, # Unwind the minSolutionFormula array (since only one object can be present there wont be any new documents)\n",
    "        {'$project': { # Rewrite the object as the defined fields\n",
    "            '_id':0, # means remove id field\n",
    "            'predicate': '$formula.k', \n",
    "            'formula': '$formula.v',\n",
    "            'frequency': '$visits',\n",
    "            'closest_solution': '$minSolutionFormula.v', \n",
    "            'closest_solution_edit_distance': '$minSolutionTed'\n",
    "        }},\n",
    "        {'$sort': {'frequency': -1}} # Sort from biggest to smallest based on the defined frequency\n",
    "    ]\n",
    "\n",
    "client = MongoClient(mongo_uri)\n",
    "db = client[database_name]\n",
    "\n",
    "node_collection = db[\"Node\"]\n",
    "\n",
    "name_to_pop_dfs = {}\n",
    "\n",
    "for (name,graph_ids) in name_to_graph_ids.items():\n",
    "    data = list(node_collection.aggregate(get_popular_nodes_pipeline(graph_ids)))[0:30] # Limits output to first 30 entries\n",
    "    df_ = pd.DataFrame(data)\n",
    "    name_to_pop_dfs[name] = df_\n",
    "\n",
    "client.close()"
   ]
  },
  {
   "cell_type": "markdown",
   "metadata": {},
   "source": [
    "### Get Min Solutions Data Frames"
   ]
  },
  {
   "cell_type": "markdown",
   "metadata": {},
   "source": [
    "WARNING: Requires GraphId Maps"
   ]
  },
  {
   "cell_type": "code",
   "execution_count": 98,
   "metadata": {},
   "outputs": [],
   "source": [
    "def get_min_solutions_pipeline(graph_ids):\n",
    "    \"\"\"Targets \"Node\" collection\"\"\"\n",
    "    return [\n",
    "        {'$match': { 'graph_id': {\"$in\":graph_ids}}}, # Match nodes with one of the provided graph ids\n",
    "        {'$group': {'_id': '$minSolution','count': {'$sum': 1}}}, # Count the minimum solution frequency\n",
    "        {'$lookup': {'from': 'Node', 'localField': '_id', 'foreignField': '_id', 'as': 'node', \n",
    "            # A \"join\" with the document Node, values are placed in the array minSolutionFormula\n",
    "            'pipeline': [ # Pipeline applied to the \"joined\" document\n",
    "                {'$addFields': {'formula': {'$objectToArray': '$formula'}}}, # Covert the formula object into an array of key value objects.\n",
    "                {'$unwind': '$formula'}, # Unwind object the formula (since every array is a singleton this will just update each document)\n",
    "            ]\n",
    "        }},\n",
    "        {'$unwind': '$node'},\n",
    "        {'$project': { # Rewrite the object as the defined fields\n",
    "            '_id': 0,  # means remove id field\n",
    "            'predicate': '$node.formula.k', \n",
    "            'formula': '$node.formula.v', \n",
    "            'frequency': '$node.visits',\n",
    "            'frequency_as_the_closest_solution':'$count'\n",
    "        }},\n",
    "        {'$sort': {'frequency': -1}} # Sort from biggest to smallest based on the defined frequency\n",
    "    ]\n",
    "\n",
    "client = MongoClient(mongo_uri)\n",
    "db = client[database_name]\n",
    "\n",
    "node_collection = db[\"Node\"]\n",
    "\n",
    "name_to_min_sol_dfs = {}\n",
    "\n",
    "for (name,graph_ids) in name_to_graph_ids.items():\n",
    "    data = list(node_collection.aggregate(get_min_solutions_pipeline(graph_ids)))\n",
    "    df_ = pd.DataFrame(data)\n",
    "    name_to_min_sol_dfs[name] = df_\n",
    "\n",
    "client.close()"
   ]
  },
  {
   "cell_type": "markdown",
   "metadata": {},
   "source": [
    "## Data Frame Persistance"
   ]
  },
  {
   "cell_type": "markdown",
   "metadata": {
    "jp-MarkdownHeadingCollapsed": true
   },
   "source": [
    "### Write As Multiple Csvs"
   ]
  },
  {
   "cell_type": "markdown",
   "metadata": {},
   "source": [
    "General Statistics"
   ]
  },
  {
   "cell_type": "code",
   "execution_count": null,
   "metadata": {},
   "outputs": [],
   "source": [
    "graph_stats_df.to_csv(path_or_buf=\"graph_stats.csv\",sep=';',float_format='%g',mode='w', index=False)"
   ]
  },
  {
   "cell_type": "markdown",
   "metadata": {},
   "source": [
    "Popular Formulas"
   ]
  },
  {
   "cell_type": "code",
   "execution_count": 14,
   "metadata": {},
   "outputs": [],
   "source": [
    "for (name, df_) in name_to_pop_dfs.items():\n",
    "    df_.to_csv(path_or_buf=name+\".popularity.csv\",sep=';',float_format='%g',mode='w', index=False)"
   ]
  },
  {
   "cell_type": "markdown",
   "metadata": {},
   "source": [
    "Solution Formulas"
   ]
  },
  {
   "cell_type": "code",
   "execution_count": null,
   "metadata": {},
   "outputs": [],
   "source": [
    "for (name, df_) in name_to_min_sol_dfs.items():\n",
    "    df_.to_csv(path_or_buf=name+\".solution.csv\",sep=';',float_format='%g',mode='w', index=False)"
   ]
  },
  {
   "cell_type": "markdown",
   "metadata": {},
   "source": [
    "### Write as Sheets of a Single XLSX File"
   ]
  },
  {
   "cell_type": "markdown",
   "metadata": {},
   "source": [
    "WARNING: Requires Every DataFrame"
   ]
  },
  {
   "cell_type": "code",
   "execution_count": 99,
   "metadata": {},
   "outputs": [],
   "source": [
    "import xlsxwriter\n",
    "\n",
    "with pd.ExcelWriter('db_study.xlsx', engine='xlsxwriter') as writer:\n",
    "    workbook = writer.book\n",
    "    text_wrap = workbook.add_format({'text_wrap': True, 'valign': 'top'})\n",
    "    bold = workbook.add_format({'bold': True})\n",
    "    for name in sorted(list(name_to_model_ids.keys())):\n",
    "        sheet = workbook.add_worksheet(name=name)\n",
    "\n",
    "        sheet.set_column(0,0,15)\n",
    "        sheet.set_column(1,1,100,text_wrap)\n",
    "        sheet.set_column(2,2,15)\n",
    "        sheet.set_column(3,3,100,text_wrap)\n",
    "        sheet.set_column(4,4,27)\n",
    "        \n",
    "        row = 0\n",
    "        sheet.merge_range(row,0,row,len(name_to_pop_dfs[name]),\"The 30 most frequent formulas\",bold)\n",
    "        row+=1\n",
    "        name_to_pop_dfs[name].to_excel(excel_writer=writer,sheet_name=name,startrow=row, index=False)\n",
    "        row+= name_to_pop_dfs[name].shape[0] + 2\n",
    "        sheet.merge_range(row,0,row,len(name_to_min_sol_dfs[name]),\"The valid formulas ordered by their frequency\",bold)\n",
    "        row+=1\n",
    "        name_to_min_sol_dfs[name].to_excel(excel_writer=writer,sheet_name=name,startrow=row, index=False)\n",
    "        row+= name_to_min_sol_dfs[name].shape[0] + 2\n",
    "    \n",
    "    graph_stats_df.to_excel(excel_writer=writer,sheet_name=\"General Statistics\", index=False)\n",
    "    workbook.get_worksheet_by_name('General Statistics').set_column(0,0,30)\n",
    "    workbook.get_worksheet_by_name('General Statistics').set_column(1,4,20)"
   ]
  },
  {
   "cell_type": "code",
   "execution_count": null,
   "metadata": {},
   "outputs": [],
   "source": []
  },
  {
   "cell_type": "markdown",
   "metadata": {},
   "source": [
    "# Policy Study"
   ]
  },
  {
   "cell_type": "code",
   "execution_count": 48,
   "metadata": {},
   "outputs": [
    {
     "data": {
      "text/html": [
       "<div>\n",
       "<style scoped>\n",
       "    .dataframe tbody tr th:only-of-type {\n",
       "        vertical-align: middle;\n",
       "    }\n",
       "\n",
       "    .dataframe tbody tr th {\n",
       "        vertical-align: top;\n",
       "    }\n",
       "\n",
       "    .dataframe thead th {\n",
       "        text-align: right;\n",
       "    }\n",
       "</style>\n",
       "<table border=\"1\" class=\"dataframe\">\n",
       "  <thead>\n",
       "    <tr style=\"text-align: right;\">\n",
       "      <th></th>\n",
       "      <th>index</th>\n",
       "      <th>Predicate</th>\n",
       "      <th>Formula</th>\n",
       "    </tr>\n",
       "  </thead>\n",
       "  <tbody>\n",
       "    <tr>\n",
       "      <th>0</th>\n",
       "      <td>0</td>\n",
       "      <td>inv1</td>\n",
       "      <td>all p: Photo |some u: User | u -&gt; p in posts</td>\n",
       "    </tr>\n",
       "    <tr>\n",
       "      <th>1</th>\n",
       "      <td>1</td>\n",
       "      <td>inv1</td>\n",
       "      <td>all p: Photo | p in User . posts</td>\n",
       "    </tr>\n",
       "    <tr>\n",
       "      <th>2</th>\n",
       "      <td>2</td>\n",
       "      <td>inv1</td>\n",
       "      <td>all p: Photo, u: User | p in u . posts</td>\n",
       "    </tr>\n",
       "    <tr>\n",
       "      <th>3</th>\n",
       "      <td>3</td>\n",
       "      <td>inv5</td>\n",
       "      <td>all i: Influencer, u: User | i in u . follows</td>\n",
       "    </tr>\n",
       "    <tr>\n",
       "      <th>4</th>\n",
       "      <td>4</td>\n",
       "      <td>inv5</td>\n",
       "      <td>all u: User | Influencer in u . follows</td>\n",
       "    </tr>\n",
       "    <tr>\n",
       "      <th>5</th>\n",
       "      <td>5</td>\n",
       "      <td>inv5</td>\n",
       "      <td>all u: User | u . follows in Influencer</td>\n",
       "    </tr>\n",
       "  </tbody>\n",
       "</table>\n",
       "</div>"
      ],
      "text/plain": [
       "   index Predicate                                        Formula\n",
       "0      0      inv1   all p: Photo |some u: User | u -> p in posts\n",
       "1      1      inv1               all p: Photo | p in User . posts\n",
       "2      2      inv1         all p: Photo, u: User | p in u . posts\n",
       "3      3      inv5  all i: Influencer, u: User | i in u . follows\n",
       "4      4      inv5        all u: User | Influencer in u . follows\n",
       "5      5      inv5        all u: User | u . follows in Influencer"
      ]
     },
     "execution_count": 48,
     "metadata": {},
     "output_type": "execute_result"
    }
   ],
   "source": [
    "exercise = \"dkZH6HJNQNLLDX6Aj\"\n",
    "data = pd.read_csv('formulas.csv', delimiter=';')\n",
    "\n",
    "input_data = None\n",
    "input_data = pd.read_csv('formulas.csv', delimiter=';').sort_values(by='Predicate')\n",
    "input_data = input_data.reset_index()\n",
    "\n",
    "body = dict()\n",
    "\n",
    "for index, row in input_data.iterrows():\n",
    "    try:\n",
    "        body[row['Predicate']].append(row['Formula'])\n",
    "    except KeyError:\n",
    "        body[row['Predicate']] = [row['Formula']]\n",
    "\n",
    "input_data"
   ]
  },
  {
   "cell_type": "code",
   "execution_count": null,
   "metadata": {},
   "outputs": [],
   "source": [
    "output=requests.request(\"POST\", \"http://localhost:8080/study/test-all-policies-on-formulas?model_id=\"+exercise, json=body).json()\n",
    "print(\"OK\")"
   ]
  },
  {
   "cell_type": "code",
   "execution_count": null,
   "metadata": {},
   "outputs": [],
   "source": [
    "df = pd.DataFrame(output)\n",
    "df"
   ]
  },
  {
   "cell_type": "code",
   "execution_count": 47,
   "metadata": {},
   "outputs": [
    {
     "name": "stdout",
     "output_type": "stream",
     "text": [
      "[{'formula': 'all i: Influencer, u: User | i in u . follows', 'predicate': 'inv5', 'hint': 'Near a solution! Instead of using variable of type Influencer, try using variable of type User to help satisfy the required property.', 'nextFormula': '(all ref0:(one Influencer),ref1:(one User)|(ref1 in ((User <: follows) . ref0)))', 'normalizedFormula': '(all ref0:(one Influencer),ref1:(one User)|(ref0 in (ref1 . (User <: follows))))'}, {'policy': 'MAX-FREQ', 'formula': 'all u: User | Influencer in u . follows', 'predicate': 'inv5', 'hint': \"Near a solution! Consider adding a difference operator ('-') to remove elements from a set. Think about how you can incorporate this within the inclusion operator ('in') expression.\", 'nextFormula': '(all ref0:(one User)|((Influencer - ref0) in (ref0 . (User <: follows))))', 'normalizedFormula': '(all ref0:(one User)|(Influencer in (ref0 . (User <: follows))))'}, {'policy': 'MAX-FREQ', 'formula': 'all u: User | u . follows in Influencer', 'predicate': 'inv5', 'hint': \"Near a solution! Consider adding a signature of type Influencer to help satisfy the required property. Think about how you can incorporate this within the inclusion operator ('in') expression.\", 'nextFormula': '(all ref0:(one User)|(Influencer in (ref0 . (User <: follows))))', 'normalizedFormula': '(all ref0:(one User)|((ref0 . (User <: follows)) in Influencer))'}, {'policy': 'MAX-FREQ', 'formula': 'all p: Photo |some u: User | u -> p in posts', 'predicate': 'inv1', 'hint': \"One step away from the solution! Instead of using existential quantifier ('some') to specify that some elements in a set satisfy a condition, try using unique quantifier ('one') to specify that there is exactly one element in a set.\", 'nextFormula': '(all ref0:(one Photo)|(one ref1:(one User)|((ref1 -> ref0) in (User <: posts))))', 'normalizedFormula': '(all ref0:(one Photo)|(some ref1:(one User)|((ref1 -> ref0) in (User <: posts))))'}, {'policy': 'MAX-FREQ', 'formula': 'all p: Photo | p in User . posts', 'predicate': 'inv1', 'hint': 'Keep going! Instead of using var0, try using true to help satisfy the required property.', 'nextFormula': '', 'normalizedFormula': '(all ref0:(one Photo)|(ref0 in (User . (User <: posts))))'}, {'policy': 'MAX-FREQ', 'formula': 'all p: Photo, u: User | p in u . posts', 'predicate': 'inv1', 'hint': \"Keep going! Consider adding a conjunction operator ('and') to combine two boolean expressions. Think about how you can incorporate this within your expression to ensure the required property.\", 'nextFormula': '((all ref0:(one Photo)|(ref0 in (User . (User <: posts)))) && (all ref1:(one Photo),ref2:(one User),ref3:(one User)|(((ref1 in (ref2 . (User <: posts))) && (ref1 in (ref3 . (User <: posts)))) => (ref2 = ref3))))', 'normalizedFormula': '(all ref0:(one Photo),ref1:(one User)|(ref0 in (ref1 . (User <: posts))))'}, {'policy': 'COMPxPOPULARITY', 'formula': 'all i: Influencer, u: User | i in u . follows', 'predicate': 'inv5', 'hint': \"Near a solution! Consider adding a difference operator ('-') to remove elements from a set. Think about how you can incorporate this within the one of expression.\", 'nextFormula': '(all ref0:(one Influencer),ref1:(one (User - ref0))|(ref0 in (ref1 . (User <: follows))))', 'normalizedFormula': '(all ref0:(one Influencer),ref1:(one User)|(ref0 in (ref1 . (User <: follows))))'}, {'policy': 'COMPxPOPULARITY', 'formula': 'all u: User | Influencer in u . follows', 'predicate': 'inv5', 'hint': \"Near a solution! Consider adding a difference operator ('-') to remove elements from a set. Think about how you can incorporate this within the inclusion operator ('in') expression.\", 'nextFormula': '(all ref0:(one User)|((Influencer - ref0) in (ref0 . (User <: follows))))', 'normalizedFormula': '(all ref0:(one User)|(Influencer in (ref0 . (User <: follows))))'}, {'policy': 'COMPxPOPULARITY', 'formula': 'all u: User | u . follows in Influencer', 'predicate': 'inv5', 'hint': \"Near a solution! Consider adding a signature of type Influencer to help satisfy the required property. Think about how you can incorporate this within the inclusion operator ('in') expression.\", 'nextFormula': '(all ref0:(one User)|(Influencer in (ref0 . (User <: follows))))', 'normalizedFormula': '(all ref0:(one User)|((ref0 . (User <: follows)) in Influencer))'}, {'policy': 'COMPxPOPULARITY', 'formula': 'all p: Photo |some u: User | u -> p in posts', 'predicate': 'inv1', 'hint': \"One step away from the solution! Instead of using existential quantifier ('some') to specify that some elements in a set satisfy a condition, try using unique quantifier ('one') to specify that there is exactly one element in a set.\", 'nextFormula': '(all ref0:(one Photo)|(one ref1:(one User)|((ref1 -> ref0) in (User <: posts))))', 'normalizedFormula': '(all ref0:(one Photo)|(some ref1:(one User)|((ref1 -> ref0) in (User <: posts))))'}, {'policy': 'COMPxPOPULARITY', 'formula': 'all p: Photo | p in User . posts', 'predicate': 'inv1', 'hint': \"Keep going! It seems like the inclusion operator ('in') is not in the right place.  Try moving it so that you correctly ensure the required property.\", 'nextFormula': '(Photo in (User . (User <: posts)))', 'normalizedFormula': '(all ref0:(one Photo)|(ref0 in (User . (User <: posts))))'}, {'policy': 'COMPxPOPULARITY', 'formula': 'all p: Photo, u: User | p in u . posts', 'predicate': 'inv1', 'hint': \"One step away from the solution! Instead of using universal quantifier ('all') to specify that all elements in a set satisfy a condition, try using unique quantifier ('one') to specify that there is exactly one element in a set.\", 'nextFormula': '(all ref0:(one Photo)|(one ref1:(one User)|(ref0 in (ref1 . (User <: posts)))))', 'normalizedFormula': '(all ref0:(one Photo),ref1:(one User)|(ref0 in (ref1 . (User <: posts))))'}, {'policy': 'TEDxPOPULARITY', 'formula': 'all i: Influencer, u: User | i in u . follows', 'predicate': 'inv5', 'hint': \"Near a solution! Consider adding a difference operator ('-') to remove elements from a set. Think about how you can incorporate this within the one of expression.\", 'nextFormula': '(all ref0:(one Influencer),ref1:(one (User - ref0))|(ref0 in (ref1 . (User <: follows))))', 'normalizedFormula': '(all ref0:(one Influencer),ref1:(one User)|(ref0 in (ref1 . (User <: follows))))'}, {'policy': 'TEDxPOPULARITY', 'formula': 'all u: User | Influencer in u . follows', 'predicate': 'inv5', 'hint': \"Near a solution! Consider adding a difference operator ('-') to remove elements from a set. Think about how you can incorporate this within the inclusion operator ('in') expression.\", 'nextFormula': '(all ref0:(one User)|((Influencer - ref0) in (ref0 . (User <: follows))))', 'normalizedFormula': '(all ref0:(one User)|(Influencer in (ref0 . (User <: follows))))'}, {'policy': 'TEDxPOPULARITY', 'formula': 'all u: User | u . follows in Influencer', 'predicate': 'inv5', 'hint': \"Near a solution! Consider adding a signature of type Influencer to help satisfy the required property. Think about how you can incorporate this within the inclusion operator ('in') expression.\", 'nextFormula': '(all ref0:(one User)|(Influencer in (ref0 . (User <: follows))))', 'normalizedFormula': '(all ref0:(one User)|((ref0 . (User <: follows)) in Influencer))'}, {'policy': 'TEDxPOPULARITY', 'formula': 'all p: Photo |some u: User | u -> p in posts', 'predicate': 'inv1', 'hint': \"One step away from the solution! Instead of using existential quantifier ('some') to specify that some elements in a set satisfy a condition, try using unique quantifier ('one') to specify that there is exactly one element in a set.\", 'nextFormula': '(all ref0:(one Photo)|(one ref1:(one User)|((ref1 -> ref0) in (User <: posts))))', 'normalizedFormula': '(all ref0:(one Photo)|(some ref1:(one User)|((ref1 -> ref0) in (User <: posts))))'}, {'policy': 'TEDxPOPULARITY', 'formula': 'all p: Photo | p in User . posts', 'predicate': 'inv1', 'hint': \"Keep going! It seems like the inclusion operator ('in') is not in the right place.  Try moving it so that you correctly ensure the required property.\", 'nextFormula': '(Photo in (User . (User <: posts)))', 'normalizedFormula': '(all ref0:(one Photo)|(ref0 in (User . (User <: posts))))'}, {'policy': 'TEDxPOPULARITY', 'formula': 'all p: Photo, u: User | p in u . posts', 'predicate': 'inv1', 'hint': \"One step away from the solution! Instead of using universal quantifier ('all') to specify that all elements in a set satisfy a condition, try using unique quantifier ('one') to specify that there is exactly one element in a set.\", 'nextFormula': '(all ref0:(one Photo)|(one ref1:(one User)|(ref0 in (ref1 . (User <: posts)))))', 'normalizedFormula': '(all ref0:(one Photo),ref1:(one User)|(ref0 in (ref1 . (User <: posts))))'}, {'policy': 'BALANCED-TEDCOMPxArrival', 'formula': 'all i: Influencer, u: User | i in u . follows', 'predicate': 'inv5', 'hint': \"Keep going! Consider adding a disjunction operator ('or') to combine two boolean expressions. Think about how you can incorporate this within the universal quantifier ('all') expression.\", 'nextFormula': '(all ref0:(one Influencer),ref1:(one User)|((ref0 in ref1) || (ref0 in (ref1 . (User <: follows)))))', 'normalizedFormula': '(all ref0:(one Influencer),ref1:(one User)|(ref0 in (ref1 . (User <: follows))))'}, {'policy': 'BALANCED-TEDCOMPxArrival', 'formula': 'all u: User | Influencer in u . follows', 'predicate': 'inv5', 'hint': \"Keep going! Consider adding a difference operator ('-') to remove elements from a set. Think about how you can incorporate this within the inclusion operator ('in') expression.\", 'nextFormula': '(all ref0:(one User)|((Influencer - ref0) in ((User <: follows) . ref0)))', 'normalizedFormula': '(all ref0:(one User)|(Influencer in (ref0 . (User <: follows))))'}, {'policy': 'BALANCED-TEDCOMPxArrival', 'formula': 'all u: User | u . follows in Influencer', 'predicate': 'inv5', 'hint': 'Keep going! You can use variables to help specify the condition. Consider introducing a new variable of type \"Influencer\" to your expression using the universal quantifier (\\'all\\').', 'nextFormula': '(all ref0:(one Influencer),ref1:(one User)|((ref0 != ref1) => (ref1 in ((User <: follows) . ref0))))', 'normalizedFormula': '(all ref0:(one User)|((ref0 . (User <: follows)) in Influencer))'}, {'policy': 'BALANCED-TEDCOMPxArrival', 'formula': 'all p: Photo |some u: User | u -> p in posts', 'predicate': 'inv1', 'hint': \"Keep going! Consider adding a conjunction operator ('and') to combine two boolean expressions. Think about how you can incorporate this within your expression to ensure the required property.\", 'nextFormula': '((all ref0:(one Photo)|(some ref1:(one User)|((ref1 -> ref0) in (User <: posts)))) && (all ref2:(one Photo),ref3:(one User),ref4:(one User)|((((ref3 -> ref2) in (User <: posts)) && ((ref4 -> ref2) in (User <: posts))) => (ref3 = ref4))))', 'normalizedFormula': '(all ref0:(one Photo)|(some ref1:(one User)|((ref1 -> ref0) in (User <: posts))))'}, {'policy': 'BALANCED-TEDCOMPxArrival', 'formula': 'all p: Photo | p in User . posts', 'predicate': 'inv1', 'hint': \"Keep going! Consider adding a conjunction operator ('and') to combine two boolean expressions. Think about how you can incorporate this within your expression to ensure the required property.\", 'nextFormula': '((all ref0:(one Photo),ref1:(one User),ref2:(one User)|((((ref1 -> ref0) in (User <: posts)) && ((ref2 -> ref0) in (User <: posts))) => (ref1 = ref2))) && (all ref3:(one Photo)|(ref3 in (User . (User <: posts)))))', 'normalizedFormula': '(all ref0:(one Photo)|(ref0 in (User . (User <: posts))))'}, {'policy': 'BALANCED-TEDCOMPxArrival', 'formula': 'all p: Photo, u: User | p in u . posts', 'predicate': 'inv1', 'hint': \"Keep going! Instead of using universal quantifier ('all') to specify that all elements in a set satisfy a condition, try using lone quantifier ('lone') to specify that there is at most one element in a set.\", 'nextFormula': '(all ref0:(one Photo)|(lone (ref0 & (User . (User <: posts)))))', 'normalizedFormula': '(all ref0:(one Photo),ref1:(one User)|(ref0 in (ref1 . (User <: posts))))'}, {'policy': 'BALANCED-TEDCOMP', 'formula': 'all i: Influencer, u: User | i in u . follows', 'predicate': 'inv5', 'hint': \"Keep going! Consider adding a conjunction operator ('and') to combine two boolean expressions. Think about how you can incorporate this within the universal quantifier ('all') expression.\", 'nextFormula': '(all ref0:(one Influencer),ref1:(one User)|((ref0 != ref1) && (ref0 in (ref1 . (User <: follows)))))', 'normalizedFormula': '(all ref0:(one Influencer),ref1:(one User)|(ref0 in (ref1 . (User <: follows))))'}, {'policy': 'BALANCED-TEDCOMP', 'formula': 'all u: User | Influencer in u . follows', 'predicate': 'inv5', 'hint': \"Near a solution! Consider adding a difference operator ('-') to remove elements from a set. Think about how you can incorporate this within the inclusion operator ('in') expression.\", 'nextFormula': '(all ref0:(one User)|((Influencer - ref0) in (ref0 . (User <: follows))))', 'normalizedFormula': '(all ref0:(one User)|(Influencer in (ref0 . (User <: follows))))'}, {'policy': 'BALANCED-TEDCOMP', 'formula': 'all u: User | u . follows in Influencer', 'predicate': 'inv5', 'hint': 'Keep going! You can use variables to help specify the condition. Consider introducing a new variable of type \"Influencer\" to your expression using the universal quantifier (\\'all\\').', 'nextFormula': '(all ref0:(one Influencer),ref1:(one User)|((ref0 != ref1) => (ref1 in ((User <: follows) . ref0))))', 'normalizedFormula': '(all ref0:(one User)|((ref0 . (User <: follows)) in Influencer))'}, {'policy': 'BALANCED-TEDCOMP', 'formula': 'all p: Photo |some u: User | u -> p in posts', 'predicate': 'inv1', 'hint': \"One step away from the solution! Instead of using existential quantifier ('some') to specify that some elements in a set satisfy a condition, try using unique quantifier ('one') to specify that there is exactly one element in a set.\", 'nextFormula': '(all ref0:(one Photo)|(one ref1:(one User)|((ref1 -> ref0) in (User <: posts))))', 'normalizedFormula': '(all ref0:(one Photo)|(some ref1:(one User)|((ref1 -> ref0) in (User <: posts))))'}, {'policy': 'BALANCED-TEDCOMP', 'formula': 'all p: Photo | p in User . posts', 'predicate': 'inv1', 'hint': \"Keep going! Consider adding a conjunction operator ('and') to combine two boolean expressions. Think about how you can incorporate this within your expression to ensure the required property.\", 'nextFormula': '((all ref0:(one Photo),ref1:(one User),ref2:(one User)|((((ref1 -> ref0) in (User <: posts)) && ((ref2 -> ref0) in (User <: posts))) => (ref1 = ref2))) && (all ref3:(one Photo)|(ref3 in (User . (User <: posts)))))', 'normalizedFormula': '(all ref0:(one Photo)|(ref0 in (User . (User <: posts))))'}, {'policy': 'BALANCED-TEDCOMP', 'formula': 'all p: Photo, u: User | p in u . posts', 'predicate': 'inv1', 'hint': \"Keep going! Consider adding a conjunction operator ('and') to combine two boolean expressions. Think about how you can incorporate this within your expression to ensure the required property.\", 'nextFormula': '((all ref0:(one Photo)|(ref0 in (User . (User <: posts)))) && (all ref1:(one Photo),ref2:(one User),ref3:(one User)|(((ref1 in (ref2 . (User <: posts))) && (ref1 in (ref3 . (User <: posts)))) => (ref2 = ref3))))', 'normalizedFormula': '(all ref0:(one Photo),ref1:(one User)|(ref0 in (ref1 . (User <: posts))))'}, {'policy': 'Arrival', 'formula': 'all i: Influencer, u: User | i in u . follows', 'predicate': 'inv5', 'hint': \"Keep going! Consider adding a disjunction operator ('or') to combine two boolean expressions. Think about how you can incorporate this within the universal quantifier ('all') expression.\", 'nextFormula': '(all ref0:(one Influencer),ref1:(one User)|((ref0 in ref1) || (ref0 in (ref1 . (User <: follows)))))', 'normalizedFormula': '(all ref0:(one Influencer),ref1:(one User)|(ref0 in (ref1 . (User <: follows))))'}, {'policy': 'Arrival', 'formula': 'all u: User | Influencer in u . follows', 'predicate': 'inv5', 'hint': \"Near a solution! Consider adding a difference operator ('-') to remove elements from a set. Think about how you can incorporate this within the inclusion operator ('in') expression.\", 'nextFormula': '(all ref0:(one User)|((Influencer - ref0) in (ref0 . (User <: follows))))', 'normalizedFormula': '(all ref0:(one User)|(Influencer in (ref0 . (User <: follows))))'}, {'policy': 'Arrival', 'formula': 'all u: User | u . follows in Influencer', 'predicate': 'inv5', 'hint': 'Keep going! You can use variables to help specify the condition. Consider introducing a new variable of type \"Influencer\" to your expression using the universal quantifier (\\'all\\').', 'nextFormula': '(all ref0:(one Influencer),ref1:(one User)|((ref0 != ref1) => (ref1 in ((User <: follows) . ref0))))', 'normalizedFormula': '(all ref0:(one User)|((ref0 . (User <: follows)) in Influencer))'}, {'policy': 'Arrival', 'formula': 'all p: Photo |some u: User | u -> p in posts', 'predicate': 'inv1', 'hint': \"Keep going! Consider adding a conjunction operator ('and') to combine two boolean expressions. Think about how you can incorporate this within your expression to ensure the required property.\", 'nextFormula': '((all ref0:(one Photo)|(some ref1:(one User)|((ref1 -> ref0) in (User <: posts)))) && (all ref2:(one Photo),ref3:(one User),ref4:(one User)|((((ref3 -> ref2) in (User <: posts)) && ((ref4 -> ref2) in (User <: posts))) => (ref3 = ref4))))', 'normalizedFormula': '(all ref0:(one Photo)|(some ref1:(one User)|((ref1 -> ref0) in (User <: posts))))'}, {'policy': 'Arrival', 'formula': 'all p: Photo | p in User . posts', 'predicate': 'inv1', 'hint': \"Keep going! Consider adding a conjunction operator ('and') to combine two boolean expressions. Think about how you can incorporate this within your expression to ensure the required property.\", 'nextFormula': '((all ref0:(one Photo),ref1:(one User),ref2:(one User)|((((ref1 -> ref0) in (User <: posts)) && ((ref2 -> ref0) in (User <: posts))) => (ref1 = ref2))) && (all ref3:(one Photo)|(ref3 in (User . (User <: posts)))))', 'normalizedFormula': '(all ref0:(one Photo)|(ref0 in (User . (User <: posts))))'}, {'policy': 'Arrival', 'formula': 'all p: Photo, u: User | p in u . posts', 'predicate': 'inv1', 'hint': \"Keep going! Consider adding a conjunction operator ('and') to combine two boolean expressions. Think about how you can incorporate this within your expression to ensure the required property.\", 'nextFormula': '((all ref0:(one Photo)|(ref0 in (User . (User <: posts)))) && (all ref1:(one Photo),ref2:(one User),ref3:(one User)|(((ref1 in (ref2 . (User <: posts))) && (ref1 in (ref3 . (User <: posts)))) => (ref2 = ref3))))', 'normalizedFormula': '(all ref0:(one Photo),ref1:(one User)|(ref0 in (ref1 . (User <: posts))))'}, {'policy': 'MAXIMIN-FREQ', 'formula': 'all i: Influencer, u: User | i in u . follows', 'predicate': 'inv5', 'hint': \"Keep going! Consider adding a no quantifier ('no') to specify that there are no elements in a set. Think about how you can incorporate this within the universal quantifier ('all') expression.\", 'nextFormula': '(all ref0:(one Influencer)|(no (User - ((User <: follows) . ref0))))', 'normalizedFormula': '(all ref0:(one Influencer),ref1:(one User)|(ref0 in (ref1 . (User <: follows))))'}, {'policy': 'MAXIMIN-FREQ', 'formula': 'all u: User | Influencer in u . follows', 'predicate': 'inv5', 'hint': \"Near a solution! Consider adding a difference operator ('-') to remove elements from a set. Think about how you can incorporate this within the inclusion operator ('in') expression.\", 'nextFormula': '(all ref0:(one User)|((Influencer - ref0) in (ref0 . (User <: follows))))', 'normalizedFormula': '(all ref0:(one User)|(Influencer in (ref0 . (User <: follows))))'}, {'policy': 'MAXIMIN-FREQ', 'formula': 'all u: User | u . follows in Influencer', 'predicate': 'inv5', 'hint': 'Keep going! You can use variables to help specify the condition. Consider introducing a new variable of type \"Influencer\" to your expression using the universal quantifier (\\'all\\').', 'nextFormula': '(all ref0:(one Influencer),ref1:(one User)|((ref0 != ref1) => (ref1 in ((User <: follows) . ref0))))', 'normalizedFormula': '(all ref0:(one User)|((ref0 . (User <: follows)) in Influencer))'}, {'policy': 'MAXIMIN-FREQ', 'formula': 'all p: Photo |some u: User | u -> p in posts', 'predicate': 'inv1', 'hint': \"Keep going! Consider adding a conjunction operator ('and') to combine two boolean expressions. Think about how you can incorporate this within your expression to ensure the required property.\", 'nextFormula': '((all ref0:(one Photo)|(some ref1:(one User)|((ref1 -> ref0) in (User <: posts)))) && (all ref2:(one Photo),ref3:(one User),ref4:(one User)|((((ref3 -> ref2) in (User <: posts)) && ((ref4 -> ref2) in (User <: posts))) => (ref3 = ref4))))', 'normalizedFormula': '(all ref0:(one Photo)|(some ref1:(one User)|((ref1 -> ref0) in (User <: posts))))'}, {'policy': 'MAXIMIN-FREQ', 'formula': 'all p: Photo | p in User . posts', 'predicate': 'inv1', 'hint': 'Keep going! You can use variables to help specify the condition. Consider introducing a new variable of type \"User\" to your expression using the universal quantifier (\\'all\\').', 'nextFormula': '(all ref0:(one Photo),ref1:(one User)|(ref0 in (ref1 . (User <: posts))))', 'normalizedFormula': '(all ref0:(one Photo)|(ref0 in (User . (User <: posts))))'}, {'policy': 'MAXIMIN-FREQ', 'formula': 'all p: Photo, u: User | p in u . posts', 'predicate': 'inv1', 'hint': \"One step away from the solution! Instead of using universal quantifier ('all') to specify that all elements in a set satisfy a condition, try using unique quantifier ('one') to specify that there is exactly one element in a set.\", 'nextFormula': '(all ref0:(one Photo)|(one ref1:(one User)|(ref0 in (ref1 . (User <: posts)))))', 'normalizedFormula': '(all ref0:(one Photo),ref1:(one User)|(ref0 in (ref1 . (User <: posts))))'}, {'policy': 'MINMAX-TED', 'formula': 'all i: Influencer, u: User | i in u . follows', 'predicate': 'inv5', 'hint': \"Near a solution! Consider adding a difference operator ('-') to remove elements from a set. Think about how you can incorporate this within the one of expression.\", 'nextFormula': '(all ref0:(one Influencer),ref1:(one (User - ref0))|(ref0 in (ref1 . (User <: follows))))', 'normalizedFormula': '(all ref0:(one Influencer),ref1:(one User)|(ref0 in (ref1 . (User <: follows))))'}, {'policy': 'MINMAX-TED', 'formula': 'all u: User | Influencer in u . follows', 'predicate': 'inv5', 'hint': \"Near a solution! Consider adding a difference operator ('-') to remove elements from a set. Think about how you can incorporate this within the one of expression.\", 'nextFormula': '(all ref0:(one (User - Influencer))|(Influencer in (ref0 . (User <: follows))))', 'normalizedFormula': '(all ref0:(one User)|(Influencer in (ref0 . (User <: follows))))'}, {'policy': 'MINMAX-TED', 'formula': 'all u: User | u . follows in Influencer', 'predicate': 'inv5', 'hint': \"Near a solution! Consider adding a signature of type Influencer to help satisfy the required property. Think about how you can incorporate this within the inclusion operator ('in') expression.\", 'nextFormula': '(all ref0:(one User)|(Influencer in (ref0 . (User <: follows))))', 'normalizedFormula': '(all ref0:(one User)|((ref0 . (User <: follows)) in Influencer))'}, {'policy': 'MINMAX-TED', 'formula': 'all p: Photo |some u: User | u -> p in posts', 'predicate': 'inv1', 'hint': \"One step away from the solution! Instead of using existential quantifier ('some') to specify that some elements in a set satisfy a condition, try using unique quantifier ('one') to specify that there is exactly one element in a set.\", 'nextFormula': '(all ref0:(one Photo)|(one ref1:(one User)|((ref1 -> ref0) in (User <: posts))))', 'normalizedFormula': '(all ref0:(one Photo)|(some ref1:(one User)|((ref1 -> ref0) in (User <: posts))))'}, {'policy': 'MINMAX-TED', 'formula': 'all p: Photo | p in User . posts', 'predicate': 'inv1', 'hint': \"Keep going! Consider adding a unique quantifier ('one') to specify that there is exactly one element in a set. Think about how you can incorporate this within the universal quantifier ('all') expression.\", 'nextFormula': '(all ref0:(one Photo)|(one ref1:(one User)|(ref0 in (ref1 . (User <: posts)))))', 'normalizedFormula': '(all ref0:(one Photo)|(ref0 in (User . (User <: posts))))'}, {'policy': 'MINMAX-TED', 'formula': 'all p: Photo, u: User | p in u . posts', 'predicate': 'inv1', 'hint': \"One step away from the solution! Instead of using universal quantifier ('all') to specify that all elements in a set satisfy a condition, try using unique quantifier ('one') to specify that there is exactly one element in a set.\", 'nextFormula': '(all ref0:(one Photo)|(one ref1:(one User)|(ref0 in (ref1 . (User <: posts)))))', 'normalizedFormula': '(all ref0:(one Photo),ref1:(one User)|(ref0 in (ref1 . (User <: posts))))'}, {'policy': 'MIN-COMPLEXITY', 'formula': 'all i: Influencer, u: User | i in u . follows', 'predicate': 'inv5', 'hint': \"Keep going! It seems like the inclusion operator ('in') is not in the right place.  Try moving it so that you correctly ensure the required property.\", 'nextFormula': '(Influencer in (User . (User <: follows)))', 'normalizedFormula': '(all ref0:(one Influencer),ref1:(one User)|(ref0 in (ref1 . (User <: follows))))'}, {'policy': 'MIN-COMPLEXITY', 'formula': 'all u: User | Influencer in u . follows', 'predicate': 'inv5', 'hint': \"Near a solution! Consider adding a difference operator ('-') to remove elements from a set. Think about how you can incorporate this within the inclusion operator ('in') expression.\", 'nextFormula': '(all ref0:(one User)|((Influencer - ref0) in (ref0 . (User <: follows))))', 'normalizedFormula': '(all ref0:(one User)|(Influencer in (ref0 . (User <: follows))))'}, {'policy': 'MIN-COMPLEXITY', 'formula': 'all u: User | u . follows in Influencer', 'predicate': 'inv5', 'hint': \"Near a solution! Consider adding a signature of type Influencer to help satisfy the required property. Think about how you can incorporate this within the inclusion operator ('in') expression.\", 'nextFormula': '(all ref0:(one User)|(Influencer in (ref0 . (User <: follows))))', 'normalizedFormula': '(all ref0:(one User)|((ref0 . (User <: follows)) in Influencer))'}, {'policy': 'MIN-COMPLEXITY', 'formula': 'all p: Photo |some u: User | u -> p in posts', 'predicate': 'inv1', 'hint': \"Keep going! Consider adding a conjunction operator ('and') to combine two boolean expressions. Think about how you can incorporate this within your expression to ensure the required property.\", 'nextFormula': '((all ref0:(one Photo)|(some ref1:(one User)|((ref1 -> ref0) in (User <: posts)))) && (all ref2:(one Photo),ref3:(one User),ref4:(one User)|((((ref3 -> ref2) in (User <: posts)) && ((ref4 -> ref2) in (User <: posts))) => (ref3 = ref4))))', 'normalizedFormula': '(all ref0:(one Photo)|(some ref1:(one User)|((ref1 -> ref0) in (User <: posts))))'}, {'policy': 'MIN-COMPLEXITY', 'formula': 'all p: Photo | p in User . posts', 'predicate': 'inv1', 'hint': \"Keep going! Consider adding a conjunction operator ('and') to combine two boolean expressions. Think about how you can incorporate this within your expression to ensure the required property.\", 'nextFormula': '((all ref0:(one Photo)|(ref0 in (User . (User <: posts)))) && (all ref1:(one Photo),ref2:(one User),ref3:(one User)|(((ref1 in (ref2 . (User <: posts))) && (ref1 in (ref3 . (User <: posts)))) => (ref2 = ref3))))', 'normalizedFormula': '(all ref0:(one Photo)|(ref0 in (User . (User <: posts))))'}, {'policy': 'MIN-COMPLEXITY', 'formula': 'all p: Photo, u: User | p in u . posts', 'predicate': 'inv1', 'hint': 'Keep going! You can use variables to help specify the condition. Consider introducing a new variable of type \"User\" to your expression using the universal quantifier (\\'all\\').', 'nextFormula': '(all ref0:(one Photo),ref1:(one User),ref2:(one User)|((ref0 in (ref1 . (User <: posts))) => (ref0 !in (ref2 . (User <: posts)))))', 'normalizedFormula': '(all ref0:(one Photo),ref1:(one User)|(ref0 in (ref1 . (User <: posts))))'}, {'policy': 'MIN-TED', 'formula': 'all i: Influencer, u: User | i in u . follows', 'predicate': 'inv5', 'hint': \"Near a solution! Consider adding a difference operator ('-') to remove elements from a set. Think about how you can incorporate this within the one of expression.\", 'nextFormula': '(all ref0:(one Influencer),ref1:(one (User - ref0))|(ref0 in (ref1 . (User <: follows))))', 'normalizedFormula': '(all ref0:(one Influencer),ref1:(one User)|(ref0 in (ref1 . (User <: follows))))'}, {'policy': 'MIN-TED', 'formula': 'all u: User | Influencer in u . follows', 'predicate': 'inv5', 'hint': \"Near a solution! Consider adding a difference operator ('-') to remove elements from a set. Think about how you can incorporate this within the inclusion operator ('in') expression.\", 'nextFormula': '(all ref0:(one User)|((Influencer - ref0) in (ref0 . (User <: follows))))', 'normalizedFormula': '(all ref0:(one User)|(Influencer in (ref0 . (User <: follows))))'}, {'policy': 'MIN-TED', 'formula': 'all u: User | u . follows in Influencer', 'predicate': 'inv5', 'hint': \"Near a solution! Consider adding a signature of type Influencer to help satisfy the required property. Think about how you can incorporate this within the inclusion operator ('in') expression.\", 'nextFormula': '(all ref0:(one User)|(Influencer in (ref0 . (User <: follows))))', 'normalizedFormula': '(all ref0:(one User)|((ref0 . (User <: follows)) in Influencer))'}, {'policy': 'MIN-TED', 'formula': 'all p: Photo |some u: User | u -> p in posts', 'predicate': 'inv1', 'hint': \"One step away from the solution! Instead of using existential quantifier ('some') to specify that some elements in a set satisfy a condition, try using unique quantifier ('one') to specify that there is exactly one element in a set.\", 'nextFormula': '(all ref0:(one Photo)|(one ref1:(one User)|((ref1 -> ref0) in (User <: posts))))', 'normalizedFormula': '(all ref0:(one Photo)|(some ref1:(one User)|((ref1 -> ref0) in (User <: posts))))'}, {'policy': 'MIN-TED', 'formula': 'all p: Photo | p in User . posts', 'predicate': 'inv1', 'hint': \"Keep going! Consider adding a unique quantifier ('one') to specify that there is exactly one element in a set. Think about how you can incorporate this within the universal quantifier ('all') expression.\", 'nextFormula': '(all ref0:(one Photo)|(one ref1:(one User)|(ref0 in (ref1 . (User <: posts)))))', 'normalizedFormula': '(all ref0:(one Photo)|(ref0 in (User . (User <: posts))))'}, {'policy': 'MIN-TED', 'formula': 'all p: Photo, u: User | p in u . posts', 'predicate': 'inv1', 'hint': \"One step away from the solution! Instead of using universal quantifier ('all') to specify that all elements in a set satisfy a condition, try using unique quantifier ('one') to specify that there is exactly one element in a set.\", 'nextFormula': '(all ref0:(one Photo)|(one ref1:(one User)|(ref0 in (ref1 . (User <: posts)))))', 'normalizedFormula': '(all ref0:(one Photo),ref1:(one User)|(ref0 in (ref1 . (User <: posts))))'}, {'policy': 'POPULARITY', 'formula': 'all i: Influencer, u: User | i in u . follows', 'predicate': 'inv5', 'hint': \"Keep going! Consider adding a implication operator ('=>') to specify that if the left side is true, then the right side must also be true. Think about how you can incorporate this within the universal quantifier ('all') expression.\", 'nextFormula': '(all ref0:(one Influencer),ref1:(one User)|((ref0 != ref1) => (ref0 in (ref1 . (User <: follows)))))', 'normalizedFormula': '(all ref0:(one Influencer),ref1:(one User)|(ref0 in (ref1 . (User <: follows))))'}, {'policy': 'POPULARITY', 'formula': 'all u: User | Influencer in u . follows', 'predicate': 'inv5', 'hint': \"Near a solution! Consider adding a difference operator ('-') to remove elements from a set. Think about how you can incorporate this within the inclusion operator ('in') expression.\", 'nextFormula': '(all ref0:(one User)|((Influencer - ref0) in (ref0 . (User <: follows))))', 'normalizedFormula': '(all ref0:(one User)|(Influencer in (ref0 . (User <: follows))))'}, {'policy': 'POPULARITY', 'formula': 'all u: User | u . follows in Influencer', 'predicate': 'inv5', 'hint': \"Near a solution! Consider adding a signature of type Influencer to help satisfy the required property. Think about how you can incorporate this within the inclusion operator ('in') expression.\", 'nextFormula': '(all ref0:(one User)|(Influencer in (ref0 . (User <: follows))))', 'normalizedFormula': '(all ref0:(one User)|((ref0 . (User <: follows)) in Influencer))'}, {'policy': 'POPULARITY', 'formula': 'all p: Photo |some u: User | u -> p in posts', 'predicate': 'inv1', 'hint': \"Keep going! Instead of using inclusion operator ('in') to specify that some element(s) belong to a set, try using dot join operator ('.') to perform a relational join between sets or relations.\", 'nextFormula': '(all ref0:(one Photo)|(some ((User <: posts) . ref0)))', 'normalizedFormula': '(all ref0:(one Photo)|(some ref1:(one User)|((ref1 -> ref0) in (User <: posts))))'}, {'policy': 'POPULARITY', 'formula': 'all p: Photo | p in User . posts', 'predicate': 'inv1', 'hint': \"Keep going! Consider adding a unique quantifier ('one') to specify that there is exactly one element in a set. Think about how you can incorporate this within the universal quantifier ('all') expression.\", 'nextFormula': '(all ref0:(one Photo)|(one ref1:(one User)|(ref0 in (ref1 . (User <: posts)))))', 'normalizedFormula': '(all ref0:(one Photo)|(ref0 in (User . (User <: posts))))'}, {'policy': 'POPULARITY', 'formula': 'all p: Photo, u: User | p in u . posts', 'predicate': 'inv1', 'hint': \"One step away from the solution! Instead of using universal quantifier ('all') to specify that all elements in a set satisfy a condition, try using unique quantifier ('one') to specify that there is exactly one element in a set.\", 'nextFormula': '(all ref0:(one Photo)|(one ref1:(one User)|(ref0 in (ref1 . (User <: posts)))))', 'normalizedFormula': '(all ref0:(one Photo),ref1:(one User)|(ref0 in (ref1 . (User <: posts))))'}, {'policy': 'TEDxArrival', 'formula': 'all i: Influencer, u: User | i in u . follows', 'predicate': 'inv5', 'hint': \"Keep going! Consider adding a disjunction operator ('or') to combine two boolean expressions. Think about how you can incorporate this within the universal quantifier ('all') expression.\", 'nextFormula': '(all ref0:(one Influencer),ref1:(one User)|((ref0 in ref1) || (ref0 in (ref1 . (User <: follows)))))', 'normalizedFormula': '(all ref0:(one Influencer),ref1:(one User)|(ref0 in (ref1 . (User <: follows))))'}, {'policy': 'TEDxArrival', 'formula': 'all u: User | Influencer in u . follows', 'predicate': 'inv5', 'hint': \"Near a solution! Consider adding a difference operator ('-') to remove elements from a set. Think about how you can incorporate this within the inclusion operator ('in') expression.\", 'nextFormula': '(all ref0:(one User)|((Influencer - ref0) in (ref0 . (User <: follows))))', 'normalizedFormula': '(all ref0:(one User)|(Influencer in (ref0 . (User <: follows))))'}, {'policy': 'TEDxArrival', 'formula': 'all u: User | u . follows in Influencer', 'predicate': 'inv5', 'hint': \"Near a solution! Consider adding a signature of type Influencer to help satisfy the required property. Think about how you can incorporate this within the inclusion operator ('in') expression.\", 'nextFormula': '(all ref0:(one User)|(Influencer in (ref0 . (User <: follows))))', 'normalizedFormula': '(all ref0:(one User)|((ref0 . (User <: follows)) in Influencer))'}, {'policy': 'TEDxArrival', 'formula': 'all p: Photo |some u: User | u -> p in posts', 'predicate': 'inv1', 'hint': \"One step away from the solution! Instead of using existential quantifier ('some') to specify that some elements in a set satisfy a condition, try using unique quantifier ('one') to specify that there is exactly one element in a set.\", 'nextFormula': '(all ref0:(one Photo)|(one ref1:(one User)|((ref1 -> ref0) in (User <: posts))))', 'normalizedFormula': '(all ref0:(one Photo)|(some ref1:(one User)|((ref1 -> ref0) in (User <: posts))))'}, {'policy': 'TEDxArrival', 'formula': 'all p: Photo | p in User . posts', 'predicate': 'inv1', 'hint': \"Keep going! Consider adding a conjunction operator ('and') to combine two boolean expressions. Think about how you can incorporate this within your expression to ensure the required property.\", 'nextFormula': '((all ref0:(one Photo)|(some ref1:(one User)|(ref0 in (ref1 . (User <: posts))))) && (all ref2:(one Photo),ref3:(one User),ref4:(one User)|(((ref2 in (ref3 . (User <: posts))) && (ref2 in (ref4 . (User <: posts)))) => (ref3 = ref4))))', 'normalizedFormula': '(all ref0:(one Photo)|(ref0 in (User . (User <: posts))))'}, {'policy': 'TEDxArrival', 'formula': 'all p: Photo, u: User | p in u . posts', 'predicate': 'inv1', 'hint': \"One step away from the solution! Instead of using universal quantifier ('all') to specify that all elements in a set satisfy a condition, try using unique quantifier ('one') to specify that there is exactly one element in a set.\", 'nextFormula': '(all ref0:(one Photo)|(one ref1:(one User)|(ref0 in (ref1 . (User <: posts)))))', 'normalizedFormula': '(all ref0:(one Photo),ref1:(one User)|(ref0 in (ref1 . (User <: posts))))'}, {'policy': 'BALANCED-TEDCOMPxPOPULARITY', 'formula': 'all i: Influencer, u: User | i in u . follows', 'predicate': 'inv5', 'hint': \"Near a solution! Consider adding a difference operator ('-') to remove elements from a set. Think about how you can incorporate this within the one of expression.\", 'nextFormula': '(all ref0:(one Influencer),ref1:(one (User - ref0))|(ref0 in (ref1 . (User <: follows))))', 'normalizedFormula': '(all ref0:(one Influencer),ref1:(one User)|(ref0 in (ref1 . (User <: follows))))'}, {'policy': 'BALANCED-TEDCOMPxPOPULARITY', 'formula': 'all u: User | Influencer in u . follows', 'predicate': 'inv5', 'hint': \"Near a solution! Consider adding a difference operator ('-') to remove elements from a set. Think about how you can incorporate this within the inclusion operator ('in') expression.\", 'nextFormula': '(all ref0:(one User)|((Influencer - ref0) in (ref0 . (User <: follows))))', 'normalizedFormula': '(all ref0:(one User)|(Influencer in (ref0 . (User <: follows))))'}, {'policy': 'BALANCED-TEDCOMPxPOPULARITY', 'formula': 'all u: User | u . follows in Influencer', 'predicate': 'inv5', 'hint': \"Near a solution! Consider adding a signature of type Influencer to help satisfy the required property. Think about how you can incorporate this within the inclusion operator ('in') expression.\", 'nextFormula': '(all ref0:(one User)|(Influencer in (ref0 . (User <: follows))))', 'normalizedFormula': '(all ref0:(one User)|((ref0 . (User <: follows)) in Influencer))'}, {'policy': 'BALANCED-TEDCOMPxPOPULARITY', 'formula': 'all p: Photo |some u: User | u -> p in posts', 'predicate': 'inv1', 'hint': \"One step away from the solution! Instead of using existential quantifier ('some') to specify that some elements in a set satisfy a condition, try using unique quantifier ('one') to specify that there is exactly one element in a set.\", 'nextFormula': '(all ref0:(one Photo)|(one ref1:(one User)|((ref1 -> ref0) in (User <: posts))))', 'normalizedFormula': '(all ref0:(one Photo)|(some ref1:(one User)|((ref1 -> ref0) in (User <: posts))))'}, {'policy': 'BALANCED-TEDCOMPxPOPULARITY', 'formula': 'all p: Photo | p in User . posts', 'predicate': 'inv1', 'hint': \"Keep going! It seems like the inclusion operator ('in') is not in the right place.  Try moving it so that you correctly ensure the required property.\", 'nextFormula': '(Photo in (User . (User <: posts)))', 'normalizedFormula': '(all ref0:(one Photo)|(ref0 in (User . (User <: posts))))'}, {'policy': 'BALANCED-TEDCOMPxPOPULARITY', 'formula': 'all p: Photo, u: User | p in u . posts', 'predicate': 'inv1', 'hint': \"One step away from the solution! Instead of using universal quantifier ('all') to specify that all elements in a set satisfy a condition, try using unique quantifier ('one') to specify that there is exactly one element in a set.\", 'nextFormula': '(all ref0:(one Photo)|(one ref1:(one User)|(ref0 in (ref1 . (User <: posts)))))', 'normalizedFormula': '(all ref0:(one Photo),ref1:(one User)|(ref0 in (ref1 . (User <: posts))))'}, {'policy': 'COMPxArrival', 'formula': 'all i: Influencer, u: User | i in u . follows', 'predicate': 'inv5', 'hint': \"Keep going! Consider adding a disjunction operator ('or') to combine two boolean expressions. Think about how you can incorporate this within the universal quantifier ('all') expression.\", 'nextFormula': '(all ref0:(one Influencer),ref1:(one User)|((ref0 in ref1) || (ref0 in (ref1 . (User <: follows)))))', 'normalizedFormula': '(all ref0:(one Influencer),ref1:(one User)|(ref0 in (ref1 . (User <: follows))))'}, {'policy': 'COMPxArrival', 'formula': 'all u: User | Influencer in u . follows', 'predicate': 'inv5', 'hint': \"Keep going! Consider adding a difference operator ('-') to remove elements from a set. Think about how you can incorporate this within the inclusion operator ('in') expression.\", 'nextFormula': '(all ref0:(one User)|((Influencer - ref0) in ((User <: follows) . ref0)))', 'normalizedFormula': '(all ref0:(one User)|(Influencer in (ref0 . (User <: follows))))'}, {'policy': 'COMPxArrival', 'formula': 'all u: User | u . follows in Influencer', 'predicate': 'inv5', 'hint': 'Keep going! You can use variables to help specify the condition. Consider introducing a new variable of type \"Influencer\" to your expression using the universal quantifier (\\'all\\').', 'nextFormula': '(all ref0:(one Influencer),ref1:(one User)|((ref0 != ref1) => (ref1 in ((User <: follows) . ref0))))', 'normalizedFormula': '(all ref0:(one User)|((ref0 . (User <: follows)) in Influencer))'}, {'policy': 'COMPxArrival', 'formula': 'all p: Photo |some u: User | u -> p in posts', 'predicate': 'inv1', 'hint': \"Keep going! Consider adding a conjunction operator ('and') to combine two boolean expressions. Think about how you can incorporate this within your expression to ensure the required property.\", 'nextFormula': '((all ref0:(one Photo)|(some ref1:(one User)|((ref1 -> ref0) in (User <: posts)))) && (all ref2:(one Photo),ref3:(one User),ref4:(one User)|((((ref3 -> ref2) in (User <: posts)) && ((ref4 -> ref2) in (User <: posts))) => (ref3 = ref4))))', 'normalizedFormula': '(all ref0:(one Photo)|(some ref1:(one User)|((ref1 -> ref0) in (User <: posts))))'}, {'policy': 'COMPxArrival', 'formula': 'all p: Photo | p in User . posts', 'predicate': 'inv1', 'hint': \"Keep going! Consider adding a conjunction operator ('and') to combine two boolean expressions. Think about how you can incorporate this within your expression to ensure the required property.\", 'nextFormula': '((all ref0:(one Photo)|(some ref1:(one User)|(ref0 in (ref1 . (User <: posts))))) && (all ref2:(one Photo),ref3:(one User),ref4:(one User)|(((ref2 in (ref3 . (User <: posts))) && (ref2 in (ref4 . (User <: posts)))) => (ref3 = ref4))))', 'normalizedFormula': '(all ref0:(one Photo)|(ref0 in (User . (User <: posts))))'}, {'policy': 'COMPxArrival', 'formula': 'all p: Photo, u: User | p in u . posts', 'predicate': 'inv1', 'hint': \"Keep going! Instead of using universal quantifier ('all') to specify that all elements in a set satisfy a condition, try using lone quantifier ('lone') to specify that there is at most one element in a set.\", 'nextFormula': '(all ref0:(one Photo)|(lone (ref0 & (User . (User <: posts)))))', 'normalizedFormula': '(all ref0:(one Photo),ref1:(one User)|(ref0 in (ref1 . (User <: posts))))'}, {'policy': 'MIN-ONE', 'formula': 'all i: Influencer, u: User | i in u . follows', 'predicate': 'inv5', 'hint': \"Keep going! Consider adding a implication operator ('=>') to specify that if the left side is true, then the right side must also be true. Think about how you can incorporate this within the universal quantifier ('all') expression.\", 'nextFormula': '(all ref0:(one Influencer),ref1:(one User)|((ref0 !in ref1) => (ref0 in (ref1 . (User <: follows)))))', 'normalizedFormula': '(all ref0:(one Influencer),ref1:(one User)|(ref0 in (ref1 . (User <: follows))))'}, {'policy': 'MIN-ONE', 'formula': 'all u: User | Influencer in u . follows', 'predicate': 'inv5', 'hint': \"Near a solution! Consider adding a difference operator ('-') to remove elements from a set. Think about how you can incorporate this within the inclusion operator ('in') expression.\", 'nextFormula': '(all ref0:(one User)|((Influencer - ref0) in (ref0 . (User <: follows))))', 'normalizedFormula': '(all ref0:(one User)|(Influencer in (ref0 . (User <: follows))))'}, {'policy': 'MIN-ONE', 'formula': 'all u: User | u . follows in Influencer', 'predicate': 'inv5', 'hint': 'Keep going! You can use variables to help specify the condition. Consider introducing a new variable of type \"Influencer\" to your expression using the universal quantifier (\\'all\\').', 'nextFormula': '(all ref0:(one Influencer),ref1:(one User)|((ref0 != ref1) => (ref1 in ((User <: follows) . ref0))))', 'normalizedFormula': '(all ref0:(one User)|((ref0 . (User <: follows)) in Influencer))'}, {'policy': 'MIN-ONE', 'formula': 'all p: Photo |some u: User | u -> p in posts', 'predicate': 'inv1', 'hint': \"One step away from the solution! Instead of using existential quantifier ('some') to specify that some elements in a set satisfy a condition, try using unique quantifier ('one') to specify that there is exactly one element in a set.\", 'nextFormula': '(all ref0:(one Photo)|(one ref1:(one User)|((ref1 -> ref0) in (User <: posts))))', 'normalizedFormula': '(all ref0:(one Photo)|(some ref1:(one User)|((ref1 -> ref0) in (User <: posts))))'}, {'policy': 'MIN-ONE', 'formula': 'all p: Photo | p in User . posts', 'predicate': 'inv1', 'hint': \"Keep going! Consider adding a unique quantifier ('one') to specify that there is exactly one element in a set. Think about how you can incorporate this within the universal quantifier ('all') expression.\", 'nextFormula': '(all ref0:(one Photo)|(one ref1:(one User)|((ref1 -> ref0) in (User <: posts))))', 'normalizedFormula': '(all ref0:(one Photo)|(ref0 in (User . (User <: posts))))'}, {'policy': 'MIN-ONE', 'formula': 'all p: Photo, u: User | p in u . posts', 'predicate': 'inv1', 'hint': \"One step away from the solution! Instead of using universal quantifier ('all') to specify that all elements in a set satisfy a condition, try using unique quantifier ('one') to specify that there is exactly one element in a set.\", 'nextFormula': '(all ref0:(one Photo)|(one ref1:(one User)|(ref0 in (ref1 . (User <: posts)))))', 'normalizedFormula': '(all ref0:(one Photo),ref1:(one User)|(ref0 in (ref1 . (User <: posts))))'}, {'policy': 'MINMAX-COMP', 'formula': 'all i: Influencer, u: User | i in u . follows', 'predicate': 'inv5', 'hint': \"Near a solution! Consider adding a union operator ('+') to combine two sets. Think about how you can incorporate this within the one of expression.\", 'nextFormula': '(all ref0:(one Influencer),ref1:(one (Influencer + User))|(ref0 in (ref1 . (User <: follows))))', 'normalizedFormula': '(all ref0:(one Influencer),ref1:(one User)|(ref0 in (ref1 . (User <: follows))))'}, {'policy': 'MINMAX-COMP', 'formula': 'all u: User | Influencer in u . follows', 'predicate': 'inv5', 'hint': \"Near a solution! Consider adding a difference operator ('-') to remove elements from a set. Think about how you can incorporate this within the one of expression.\", 'nextFormula': '(all ref0:(one (User - Influencer))|(Influencer in (ref0 . (User <: follows))))', 'normalizedFormula': '(all ref0:(one User)|(Influencer in (ref0 . (User <: follows))))'}, {'policy': 'MINMAX-COMP', 'formula': 'all u: User | u . follows in Influencer', 'predicate': 'inv5', 'hint': 'Keep going! You can use variables to help specify the condition. Consider introducing a new variable of type \"Influencer\" to your expression using the universal quantifier (\\'all\\').', 'nextFormula': '(all ref0:(one Influencer),ref1:(one User)|((ref0 != ref1) => (ref1 in ((User <: follows) . ref0))))', 'normalizedFormula': '(all ref0:(one User)|((ref0 . (User <: follows)) in Influencer))'}, {'policy': 'MINMAX-COMP', 'formula': 'all p: Photo |some u: User | u -> p in posts', 'predicate': 'inv1', 'hint': \"Keep going! Consider adding a conjunction operator ('and') to combine two boolean expressions. Think about how you can incorporate this within your expression to ensure the required property.\", 'nextFormula': '((all ref0:(one Photo)|(some ref1:(one User)|((ref1 -> ref0) in (User <: posts)))) && (all ref2:(one Photo),ref3:(one User),ref4:(one User)|((((ref3 -> ref2) in (User <: posts)) && ((ref4 -> ref2) in (User <: posts))) => (ref3 = ref4))))', 'normalizedFormula': '(all ref0:(one Photo)|(some ref1:(one User)|((ref1 -> ref0) in (User <: posts))))'}, {'policy': 'MINMAX-COMP', 'formula': 'all p: Photo | p in User . posts', 'predicate': 'inv1', 'hint': \"Keep going! Instead of using inclusion operator ('in') to specify that some element(s) belong to a set, try using lone quantifier ('lone') to specify that there is at most one element in a set.\", 'nextFormula': '(all ref0:(one User)|(lone (ref0 . (User <: posts))))', 'normalizedFormula': '(all ref0:(one Photo)|(ref0 in (User . (User <: posts))))'}, {'policy': 'MINMAX-COMP', 'formula': 'all p: Photo, u: User | p in u . posts', 'predicate': 'inv1', 'hint': \"Keep going! Consider adding a conjunction operator ('and') to combine two boolean expressions. Think about how you can incorporate this within your expression to ensure the required property.\", 'nextFormula': '((all ref0:(one Photo)|(ref0 in (User . (User <: posts)))) && (all ref1:(one Photo),ref2:(one User),ref3:(one User)|(((ref1 in (ref2 . (User <: posts))) && (ref1 in (ref3 . (User <: posts)))) => (ref2 = ref3))))', 'normalizedFormula': '(all ref0:(one Photo),ref1:(one User)|(ref0 in (ref1 . (User <: posts))))'}]\n"
     ]
    },
    {
     "ename": "KeyError",
     "evalue": "'policy'",
     "output_type": "error",
     "traceback": [
      "\u001b[1;31m---------------------------------------------------------------------------\u001b[0m",
      "\u001b[1;31mKeyError\u001b[0m                                  Traceback (most recent call last)",
      "Cell \u001b[1;32mIn[47], line 5\u001b[0m\n\u001b[0;32m      4\u001b[0m \u001b[38;5;28;01mtry\u001b[39;00m:\n\u001b[1;32m----> 5\u001b[0m     \u001b[43mcondensed_output\u001b[49m\u001b[43m[\u001b[49m\u001b[43m(\u001b[49m\u001b[43mobj\u001b[49m\u001b[43m[\u001b[49m\u001b[38;5;124;43m'\u001b[39;49m\u001b[38;5;124;43mpredicate\u001b[39;49m\u001b[38;5;124;43m'\u001b[39;49m\u001b[43m]\u001b[49m\u001b[43m,\u001b[49m\u001b[43mobj\u001b[49m\u001b[43m[\u001b[49m\u001b[38;5;124;43m'\u001b[39;49m\u001b[38;5;124;43mformula\u001b[39;49m\u001b[38;5;124;43m'\u001b[39;49m\u001b[43m]\u001b[49m\u001b[43m,\u001b[49m\u001b[43mobj\u001b[49m\u001b[38;5;241;43m.\u001b[39;49m\u001b[43mget\u001b[49m\u001b[43m(\u001b[49m\u001b[38;5;124;43m'\u001b[39;49m\u001b[38;5;124;43mnextFormula\u001b[39;49m\u001b[38;5;124;43m'\u001b[39;49m\u001b[43m,\u001b[49m\u001b[43m \u001b[49m\u001b[38;5;28;43;01mNone\u001b[39;49;00m\u001b[43m)\u001b[49m\u001b[43m)\u001b[49m\u001b[43m]\u001b[49m[obj[\u001b[38;5;124m'\u001b[39m\u001b[38;5;124mpolicy\u001b[39m\u001b[38;5;124m'\u001b[39m]] \u001b[38;5;241m=\u001b[39m \u001b[38;5;28;01mTrue\u001b[39;00m\n\u001b[0;32m      6\u001b[0m \u001b[38;5;28;01mexcept\u001b[39;00m \u001b[38;5;167;01mKeyError\u001b[39;00m:\n",
      "\u001b[1;31mKeyError\u001b[0m: ('inv5', 'all i: Influencer, u: User | i in u . follows', '(all ref0:(one Influencer),ref1:(one User)|(ref1 in ((User <: follows) . ref0)))')",
      "\nDuring handling of the above exception, another exception occurred:\n",
      "\u001b[1;31mKeyError\u001b[0m                                  Traceback (most recent call last)",
      "Cell \u001b[1;32mIn[47], line 7\u001b[0m\n\u001b[0;32m      5\u001b[0m     condensed_output[(obj[\u001b[38;5;124m'\u001b[39m\u001b[38;5;124mpredicate\u001b[39m\u001b[38;5;124m'\u001b[39m],obj[\u001b[38;5;124m'\u001b[39m\u001b[38;5;124mformula\u001b[39m\u001b[38;5;124m'\u001b[39m],obj\u001b[38;5;241m.\u001b[39mget(\u001b[38;5;124m'\u001b[39m\u001b[38;5;124mnextFormula\u001b[39m\u001b[38;5;124m'\u001b[39m, \u001b[38;5;28;01mNone\u001b[39;00m))][obj[\u001b[38;5;124m'\u001b[39m\u001b[38;5;124mpolicy\u001b[39m\u001b[38;5;124m'\u001b[39m]] \u001b[38;5;241m=\u001b[39m \u001b[38;5;28;01mTrue\u001b[39;00m\n\u001b[0;32m      6\u001b[0m \u001b[38;5;28;01mexcept\u001b[39;00m \u001b[38;5;167;01mKeyError\u001b[39;00m:\n\u001b[1;32m----> 7\u001b[0m     policy \u001b[38;5;241m=\u001b[39m \u001b[43mobj\u001b[49m\u001b[43m[\u001b[49m\u001b[38;5;124;43m'\u001b[39;49m\u001b[38;5;124;43mpolicy\u001b[39;49m\u001b[38;5;124;43m'\u001b[39;49m\u001b[43m]\u001b[49m\n\u001b[0;32m      8\u001b[0m     obj\u001b[38;5;241m.\u001b[39mpop(\u001b[38;5;124m'\u001b[39m\u001b[38;5;124mpolicy\u001b[39m\u001b[38;5;124m'\u001b[39m,\u001b[38;5;28;01mNone\u001b[39;00m)\n\u001b[0;32m      9\u001b[0m     condensed_output[(obj[\u001b[38;5;124m'\u001b[39m\u001b[38;5;124mpredicate\u001b[39m\u001b[38;5;124m'\u001b[39m],obj[\u001b[38;5;124m'\u001b[39m\u001b[38;5;124mformula\u001b[39m\u001b[38;5;124m'\u001b[39m],obj[\u001b[38;5;124m'\u001b[39m\u001b[38;5;124mnextFormula\u001b[39m\u001b[38;5;124m'\u001b[39m])][policy] \u001b[38;5;241m=\u001b[39m\u001b[38;5;28;01mTrue\u001b[39;00m\n",
      "\u001b[1;31mKeyError\u001b[0m: 'policy'"
     ]
    }
   ],
   "source": [
    "print(output)\n",
    "condensed_output = dict()\n",
    "for obj in output:\n",
    "    try:\n",
    "        condensed_output[(obj['predicate'],obj['formula'],obj.get('nextFormula', None))][obj['policy']] = True\n",
    "    except KeyError:\n",
    "        copy = dict(obj)\n",
    "        policy = obj['policy']\n",
    "        copy.pop('policy',None)\n",
    "        copy[policy] = True\n",
    "        condensed_output[(obj['predicate'],obj['formula'],obj['nextFormula'])] =copy\n",
    "    \n",
    "df = pd.DataFrame(condensed_output)\n",
    "df"
   ]
  },
  {
   "cell_type": "code",
   "execution_count": 43,
   "metadata": {},
   "outputs": [],
   "source": [
    "df.sort_values(by='predicate', ascending=True)\n",
    "df.to_csv(\"hints.csv\", index=False, sep=\";\")\n"
   ]
  },
  {
   "cell_type": "markdown",
   "metadata": {
    "jp-MarkdownHeadingCollapsed": true
   },
   "source": [
    "# Request hints"
   ]
  },
  {
   "cell_type": "markdown",
   "metadata": {},
   "source": [
    "Import data from file. Checks out the top 10 incorrect most popular submissions  and stores \n",
    "the predicates they belong to. Then, it creates a new dataframe with the top 3 most popular submissions for each one of these predicates."
   ]
  },
  {
   "cell_type": "code",
   "execution_count": null,
   "metadata": {
    "pycharm": {
     "is_executing": true
    }
   },
   "outputs": [],
   "source": [
    "# setting the display options\n",
    "pd.set_option('display.max_rows', None)\n",
    "pd.set_option('max_colwidth', None)\n",
    "\n",
    "# Get the predicates with the most popular incorrect answers \n",
    "challenge = \"dkZH6HJNQNLLDX6Aj\"\n",
    "data = pd.read_csv('popularity.csv', delimiter=';').sort_values(by='Popularity', ascending=False)\n",
    "predicates = data.head(10)[\"Predicate\"].unique().tolist()\n",
    "\n",
    "df = pd.DataFrame()\n",
    "for predicate in predicates:\n",
    "    top = data[data[\"Predicate\"] == predicate].head(3)\n",
    "    df = pd.concat([df, top], ignore_index=True)\n",
    "\n",
    "df.drop(columns=['Popularity'], inplace=True)\n",
    "df"
   ]
  },
  {
   "cell_type": "markdown",
   "metadata": {},
   "source": [
    "WARNING: Run only after setup is complete."
   ]
  },
  {
   "cell_type": "code",
   "execution_count": null,
   "metadata": {},
   "outputs": [],
   "source": [
    "def gen_body_request(model, challenge, predicate, expression, hintGenType):\n",
    "    obj = {\n",
    "        \"model\": model + \" pred \" + predicate + \" { \" + expression + \" }\",\n",
    "        \"challenge\": challenge,\n",
    "        \"predicate\": predicate,\n",
    "        \"hintGenType\": hintGenType\n",
    "    }\n",
    "\n",
    "    return obj\n",
    "\n",
    "def get_hint(model, url, challenge, predicate, expression, hintGenType = \"TED\"):\n",
    "    body = gen_body_request(model, challenge, predicate, expression, hintGenType)\n",
    "    response = send_http_request(url, body)\n",
    "\n",
    "    if response is not None:\n",
    "        return pd.Series([response[\"hint\"], response[\"nextExpr\"], response[\"targetExpr\"]])\n",
    "    else:\n",
    "        return pd.Series([\"\", \"\", \"\"])"
   ]
  },
  {
   "cell_type": "markdown",
   "metadata": {
    "jp-MarkdownHeadingCollapsed": true
   },
   "source": [
    "## HiGenA\n",
    "### TED policy\n",
    "Generates hints using HiGenA with the path with the lowest TED."
   ]
  },
  {
   "cell_type": "code",
   "execution_count": null,
   "metadata": {},
   "outputs": [],
   "source": [
    "model = \"sig User {follows : set User,sees : set Photo,posts : set Photo,suggested : set User} sig Influencer extends User {} sig Photo {date : one Day} sig Ad extends Photo {} sig Day {}\"\n",
    "url = \"http://localhost:8080/hint/higena-hint\"\n",
    "\n",
    "# Hint using Higena with TED\n",
    "higenaTED = df.copy()\n",
    "columns = df.apply(lambda row: get_hint(model, url, row[\"Challenge\"], row[\"Predicate\"], row[\"Expression\"]), axis=1)\n",
    "higenaTED[[\"hint\", \"next\", \"solution\"]] = columns\n",
    "\n",
    "higenaTED"
   ]
  },
  {
   "cell_type": "markdown",
   "metadata": {},
   "source": [
    "### Node Popularity policy\n",
    "\n",
    "Generates hints using HiGenA with the path with the most popular submissions."
   ]
  },
  {
   "cell_type": "code",
   "execution_count": null,
   "metadata": {},
   "outputs": [],
   "source": [
    "# Hint using Higena with Most popular submissions\n",
    "higenaNode = df.copy()\n",
    "columns = df.apply(lambda row: get_hint(model, url, row[\"Challenge\"], row[\"Predicate\"], row[\"Expression\"], hintGenType=\"NODE_POISSON\"), axis=1)\n",
    "higenaNode[[\"hint\", \"next\", \"solution\"]] = columns\n",
    "\n",
    "higenaNode"
   ]
  },
  {
   "cell_type": "markdown",
   "metadata": {},
   "source": [
    "### Edge Popularity policy\n",
    "Generates hints using HiGenA with the path with the most popular transitions."
   ]
  },
  {
   "cell_type": "code",
   "execution_count": null,
   "metadata": {},
   "outputs": [],
   "source": [
    "# Hint using Higena with Most popular submissions\n",
    "higenaEdge = df.copy()\n",
    "columns = df.apply(lambda row: get_hint(model, url, row[\"Challenge\"], row[\"Predicate\"], row[\"Expression\"], hintGenType=\"REL_POISSON\"), axis=1)\n",
    "higenaEdge[[\"hint\", \"next\", \"solution\"]] = columns\n",
    "\n",
    "higenaEdge"
   ]
  },
  {
   "cell_type": "markdown",
   "metadata": {
    "jp-MarkdownHeadingCollapsed": true
   },
   "source": [
    "## Spec Assistant\n",
    "### Default policy\n",
    "Generates hints using SpecAssistant default parameters."
   ]
  },
  {
   "cell_type": "code",
   "execution_count": null,
   "metadata": {},
   "outputs": [],
   "source": [
    "# Compute policy\n",
    "url = \"http://localhost:8080/hint/compute-all-policies-for-rule?rule=TEDCOMPXxArrival\"\n",
    "send_http_request(url, [challenge], \"POST\")"
   ]
  },
  {
   "cell_type": "code",
   "execution_count": null,
   "metadata": {},
   "outputs": [],
   "source": [
    "# Hint using Spec Assistant default parameters\n",
    "url = \"http://localhost:8080/hint/spec-hint\"\n",
    "spec = df.copy()\n",
    "columns = df.apply(lambda row: get_hint(model, url, row[\"Challenge\"], row[\"Predicate\"], row[\"Expression\"]), axis=1)\n",
    "spec[[\"hint\", \"next\", \"solution\"]] = columns\n",
    "spec"
   ]
  },
  {
   "cell_type": "markdown",
   "metadata": {},
   "source": [
    "### TED policy"
   ]
  },
  {
   "cell_type": "code",
   "execution_count": null,
   "metadata": {},
   "outputs": [],
   "source": [
    "# Compute policy\n",
    "url = \"http://localhost:8080/hint/compute-all-policies-for-rule?rule=TED\"\n",
    "send_http_request(url)"
   ]
  },
  {
   "cell_type": "code",
   "execution_count": null,
   "metadata": {},
   "outputs": [],
   "source": [
    "# Generate hint\n",
    "url = \"http://localhost:8080/hint/spec-hint\"\n",
    "specTed = df.copy()\n",
    "columns = df.apply(lambda row: get_hint(model, url, row[\"Challenge\"], row[\"Predicate\"], row[\"Expression\"]), axis=1)\n",
    "specTed[[\"hint\", \"next\", \"solution\"]] = columns\n",
    "specTed"
   ]
  },
  {
   "cell_type": "markdown",
   "metadata": {},
   "source": [
    "### Node Popularity policy"
   ]
  },
  {
   "cell_type": "code",
   "execution_count": null,
   "metadata": {},
   "outputs": [],
   "source": [
    "# Compute policy\n",
    "url = \"http://localhost:8080/hint/compute-all-policies-for-rule?rule=MAXFREQ\"\n",
    "send_http_request(url)"
   ]
  },
  {
   "cell_type": "code",
   "execution_count": null,
   "metadata": {},
   "outputs": [],
   "source": [
    "# Generate hint\n",
    "url = \"http://localhost:8080/hint/spec-hint\"\n",
    "specPopularNode = df.copy()\n",
    "columns = df.apply(lambda row: get_hint(model, url, row[\"Challenge\"], row[\"Predicate\"], row[\"Expression\"]), axis=1)\n",
    "specPopularNode[[\"hint\", \"next\", \"solution\"]] = columns\n",
    "specPopularNode"
   ]
  },
  {
   "cell_type": "markdown",
   "metadata": {},
   "source": [
    "### Edge Popularity policy"
   ]
  },
  {
   "cell_type": "code",
   "execution_count": null,
   "metadata": {},
   "outputs": [],
   "source": [
    "# Compute policy\n",
    "url = \"http://localhost:8080/hint/compute-all-policies-for-rule?rule=POPULARITY\"\n",
    "send_http_request(url)"
   ]
  },
  {
   "cell_type": "code",
   "execution_count": null,
   "metadata": {},
   "outputs": [],
   "source": [
    "# Generate hint\n",
    "url = \"http://localhost:8080/hint/spec-hint\"\n",
    "specPopularEdge = df.copy()\n",
    "columns = df.apply(lambda row: get_hint(model, url, row[\"Challenge\"], row[\"Predicate\"], row[\"Expression\"]), axis=1)\n",
    "specPopularEdge[[\"hint\", \"next\", \"solution\"]] = columns\n",
    "specPopularEdge"
   ]
  },
  {
   "cell_type": "markdown",
   "metadata": {},
   "source": [
    "# Export"
   ]
  },
  {
   "cell_type": "markdown",
   "metadata": {},
   "source": [
    "Export hints to file."
   ]
  },
  {
   "cell_type": "code",
   "execution_count": null,
   "metadata": {},
   "outputs": [],
   "source": [
    "df[\"HiGenATED\"] = higenaTED[\"hint\"]\n",
    "df[\"HiGenAPopularNode\"] = higenaNode[\"hint\"]\n",
    "df[\"HiGenAPopularEdge\"] = higenaEdge[\"hint\"]\n",
    "df[\"specTed\"] = specTed[\"hint\"]\n",
    "df[\"specPopularNode\"] = specPopularNode[\"hint\"]\n",
    "df[\"specPopularEdge\"] = specPopularEdge[\"hint\"]\n",
    "# Export hints csv\n",
    "df.to_csv(\"hints.csv\", index=False, sep=\";\")\n"
   ]
  },
  {
   "cell_type": "code",
   "execution_count": null,
   "metadata": {},
   "outputs": [],
   "source": [
    "df"
   ]
  }
 ],
 "metadata": {
  "kernelspec": {
   "display_name": "Python 3 (ipykernel)",
   "language": "python",
   "name": "python3"
  },
  "language_info": {
   "codemirror_mode": {
    "name": "ipython",
    "version": 3
   },
   "file_extension": ".py",
   "mimetype": "text/x-python",
   "name": "python",
   "nbconvert_exporter": "python",
   "pygments_lexer": "ipython3",
   "version": "3.12.0"
  }
 },
 "nbformat": 4,
 "nbformat_minor": 4
}
